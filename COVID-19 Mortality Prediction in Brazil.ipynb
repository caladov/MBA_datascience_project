{
 "cells": [
  {
   "attachments": {},
   "cell_type": "markdown",
   "id": "78885175",
   "metadata": {},
   "source": [
    "# Loading dataset \n",
    "___"
   ]
  },
  {
   "attachments": {},
   "cell_type": "markdown",
   "id": "ea61e4df",
   "metadata": {},
   "source": [
    "- Datasets can be found at: https://opendatasus.saude.gov.br/dataset \n",
    "- Search for \"Síndrome respiratória aguda grave\""
   ]
  },
  {
   "cell_type": "code",
   "execution_count": 1,
   "id": "8eeb8245",
   "metadata": {},
   "outputs": [],
   "source": [
    "import pandas as pd"
   ]
  },
  {
   "cell_type": "code",
   "execution_count": 2,
   "id": "faefd270",
   "metadata": {},
   "outputs": [
    {
     "name": "stdout",
     "output_type": "stream",
     "text": [
      "<class 'pandas.core.frame.DataFrame'>\n",
      "RangeIndex: 1733517 entries, 0 to 1733516\n",
      "Columns: 166 entries, DT_NOTIFIC to FNT_IN_COV\n",
      "dtypes: object(166)\n",
      "memory usage: 2.1+ GB\n"
     ]
    }
   ],
   "source": [
    "srag21 = pd.read_csv('SRAG_2021.csv', delimiter=';', dtype=str)\n",
    "srag21.info()"
   ]
  },
  {
   "cell_type": "code",
   "execution_count": 3,
   "id": "c2a8a00b",
   "metadata": {},
   "outputs": [
    {
     "name": "stdout",
     "output_type": "stream",
     "text": [
      "<class 'pandas.core.frame.DataFrame'>\n",
      "RangeIndex: 542162 entries, 0 to 542161\n",
      "Columns: 166 entries, DT_NOTIFIC to FNT_IN_COV\n",
      "dtypes: object(166)\n",
      "memory usage: 686.6+ MB\n"
     ]
    }
   ],
   "source": [
    "srag22 = pd.read_csv('SRAG_2022.csv', delimiter=';', dtype=str)\n",
    "srag22.info()"
   ]
  },
  {
   "cell_type": "code",
   "execution_count": 4,
   "id": "7a938801",
   "metadata": {},
   "outputs": [
    {
     "name": "stdout",
     "output_type": "stream",
     "text": [
      "<class 'pandas.core.frame.DataFrame'>\n",
      "RangeIndex: 2275679 entries, 0 to 2275678\n",
      "Columns: 166 entries, DT_NOTIFIC to FNT_IN_COV\n",
      "dtypes: object(166)\n",
      "memory usage: 2.8+ GB\n"
     ]
    }
   ],
   "source": [
    "df = pd.concat([srag21, srag22])\n",
    "df.index = pd.RangeIndex(start=0, stop=len(df.index))\n",
    "df.info()"
   ]
  },
  {
   "attachments": {},
   "cell_type": "markdown",
   "id": "9aaf55b3",
   "metadata": {},
   "source": [
    "# Data Wrangling and Exploratory Data Analysis\n",
    "___"
   ]
  },
  {
   "cell_type": "code",
   "execution_count": 5,
   "id": "8a92b648",
   "metadata": {},
   "outputs": [],
   "source": [
    "import numpy as np\n",
    "import seaborn as sns\n",
    "import matplotlib.pyplot as plt\n",
    "from datetime import datetime"
   ]
  },
  {
   "cell_type": "code",
   "execution_count": 6,
   "id": "1f643830",
   "metadata": {},
   "outputs": [
    {
     "name": "stdout",
     "output_type": "stream",
     "text": [
      "<class 'pandas.core.frame.DataFrame'>\n",
      "Int64Index: 978220 entries, 90 to 2275678\n",
      "Columns: 166 entries, DT_NOTIFIC to FNT_IN_COV\n",
      "dtypes: datetime64[ns](1), object(165)\n",
      "memory usage: 1.2+ GB\n"
     ]
    }
   ],
   "source": [
    "# Selecting data starting on July 1, 2021 to balance the number of vaccinated people\n",
    "start_date = datetime(year=2021, month=7, day=1)\n",
    "df['DT_SIN_PRI'] = pd.to_datetime(df['DT_SIN_PRI'], format='%d/%m/%Y')\n",
    "df = df[df['DT_SIN_PRI'] >= start_date].copy()\n",
    "df.info()"
   ]
  },
  {
   "cell_type": "code",
   "execution_count": 7,
   "id": "aa732c5b",
   "metadata": {},
   "outputs": [
    {
     "name": "stdout",
     "output_type": "stream",
     "text": [
      "<class 'pandas.core.frame.DataFrame'>\n",
      "Int64Index: 426366 entries, 8354 to 2275678\n",
      "Columns: 166 entries, DT_NOTIFIC to FNT_IN_COV\n",
      "dtypes: datetime64[ns](1), object(165)\n",
      "memory usage: 543.2+ MB\n"
     ]
    }
   ],
   "source": [
    "# Including only confirmed COVID-19 cases\n",
    "df = df[df['CLASSI_FIN'] == '5'].copy() \n",
    "df.info()"
   ]
  },
  {
   "cell_type": "code",
   "execution_count": 8,
   "id": "cea82b41",
   "metadata": {},
   "outputs": [
    {
     "name": "stdout",
     "output_type": "stream",
     "text": [
      "<class 'pandas.core.frame.DataFrame'>\n",
      "Int64Index: 410959 entries, 8354 to 2275678\n",
      "Columns: 166 entries, DT_NOTIFIC to FNT_IN_COV\n",
      "dtypes: datetime64[ns](1), object(165)\n",
      "memory usage: 523.6+ MB\n"
     ]
    }
   ],
   "source": [
    "# Including only cases that were confirmed hospitalizations\n",
    "df = df[df['HOSPITAL'] == '1'].copy() \n",
    "df.info()"
   ]
  },
  {
   "attachments": {},
   "cell_type": "markdown",
   "id": "140dfed2",
   "metadata": {},
   "source": [
    "## Target Variable: Death"
   ]
  },
  {
   "cell_type": "code",
   "execution_count": 9,
   "id": "af6147fa",
   "metadata": {},
   "outputs": [
    {
     "name": "stdout",
     "output_type": "stream",
     "text": [
      "<class 'pandas.core.frame.DataFrame'>\n",
      "Int64Index: 372460 entries, 8354 to 2275678\n",
      "Columns: 166 entries, DT_NOTIFIC to FNT_IN_COV\n",
      "dtypes: datetime64[ns](1), object(165)\n",
      "memory usage: 474.6+ MB\n"
     ]
    }
   ],
   "source": [
    "df = df[(pd.notna(df['EVOLUCAO'])) &\n",
    "        (df['EVOLUCAO'] != '3') &\n",
    "        (df['EVOLUCAO'] != '9')].copy()\n",
    "df.info()"
   ]
  },
  {
   "cell_type": "code",
   "execution_count": 10,
   "id": "8a5d4bd3",
   "metadata": {},
   "outputs": [
    {
     "data": {
      "text/plain": [
       "1    265222\n",
       "2    107238\n",
       "Name: EVOLUCAO, dtype: int64"
      ]
     },
     "execution_count": 10,
     "metadata": {},
     "output_type": "execute_result"
    }
   ],
   "source": [
    "df['EVOLUCAO'].value_counts()"
   ]
  },
  {
   "cell_type": "code",
   "execution_count": 11,
   "id": "dad8e66d",
   "metadata": {},
   "outputs": [
    {
     "data": {
      "text/plain": [
       "0    265222\n",
       "1    107238\n",
       "Name: death, dtype: int64"
      ]
     },
     "execution_count": 11,
     "metadata": {},
     "output_type": "execute_result"
    }
   ],
   "source": [
    "df['death'] = df['EVOLUCAO'].apply(lambda x: 1 if x == '2' else 0)\n",
    "df['death'].value_counts()"
   ]
  },
  {
   "attachments": {},
   "cell_type": "markdown",
   "id": "2fa0ad8f",
   "metadata": {},
   "source": [
    "## Demographics"
   ]
  },
  {
   "cell_type": "markdown",
   "id": "a2a95538",
   "metadata": {},
   "source": [
    "### Age"
   ]
  },
  {
   "cell_type": "code",
   "execution_count": 12,
   "id": "06d852a5",
   "metadata": {},
   "outputs": [
    {
     "name": "stdout",
     "output_type": "stream",
     "text": [
      "-9\n",
      "118\n"
     ]
    }
   ],
   "source": [
    "# Converting age to numerical values\n",
    "df['age'] = pd.to_numeric(df['NU_IDADE_N'])\n",
    "print(df['age'].min())\n",
    "print(df['age'].max())"
   ]
  },
  {
   "cell_type": "code",
   "execution_count": 13,
   "id": "2166d8ec",
   "metadata": {},
   "outputs": [
    {
     "data": {
      "image/png": "[encoded data removed]",
      "text/plain": [
       "<Figure size 640x480 with 1 Axes>"
      ]
     },
     "metadata": {},
     "output_type": "display_data"
    }
   ],
   "source": [
    "sns.histplot(data=df, x='age', bins=30);"
   ]
  },
  {
   "cell_type": "code",
   "execution_count": 14,
   "id": "e54a03fd",
   "metadata": {},
   "outputs": [
    {
     "data": {
      "image/png": "[encoded data removed]",
      "text/plain": [
       "<Figure size 640x480 with 1 Axes>"
      ]
     },
     "metadata": {},
     "output_type": "display_data"
    }
   ],
   "source": [
    "sns.boxplot(data=df, x='death', y='age');"
   ]
  },
  {
   "cell_type": "code",
   "execution_count": 15,
   "id": "0030f6d2",
   "metadata": {},
   "outputs": [
    {
     "name": "stdout",
     "output_type": "stream",
     "text": [
      "q1: 45.0\n",
      "q2: 65.0\n",
      "q3: 78.0\n",
      "iqr: 33.0\n"
     ]
    }
   ],
   "source": [
    "# Age percentiles\n",
    "q1, q2, q3 = np.percentile(df['age'], [25, 50, 75])\n",
    "print(f'q1: {q1}')\n",
    "print(f'q2: {q2}')\n",
    "print(f'q3: {q3}')\n",
    "iqr = q3 - q1\n",
    "print(f'iqr: {iqr}')"
   ]
  },
  {
   "cell_type": "code",
   "execution_count": 16,
   "id": "5f457990",
   "metadata": {},
   "outputs": [
    {
     "data": {
      "text/plain": [
       "count    349890.000000\n",
       "mean         63.906468\n",
       "std          19.228001\n",
       "min          18.000000\n",
       "25%          50.000000\n",
       "50%          67.000000\n",
       "75%          79.000000\n",
       "max         110.000000\n",
       "Name: age, dtype: float64"
      ]
     },
     "execution_count": 16,
     "metadata": {},
     "output_type": "execute_result"
    }
   ],
   "source": [
    "# Filtering age\n",
    "df = df[(df['age'] >= 18) & # only adults\n",
    "        (df['age'] <= 110)].copy() # removing age outliers\n",
    "df['age'].describe()"
   ]
  },
  {
   "cell_type": "code",
   "execution_count": 17,
   "id": "aa51aec0",
   "metadata": {},
   "outputs": [
    {
     "data": {
      "text/plain": [
       "death\n",
       "0    60.596684\n",
       "1    71.492793\n",
       "Name: age, dtype: float64"
      ]
     },
     "execution_count": 17,
     "metadata": {},
     "output_type": "execute_result"
    }
   ],
   "source": [
    "df.groupby(['death'])['age'].mean()"
   ]
  },
  {
   "cell_type": "markdown",
   "id": "dfd50f61",
   "metadata": {},
   "source": [
    "### Sex"
   ]
  },
  {
   "cell_type": "code",
   "execution_count": 18,
   "id": "56686f05",
   "metadata": {},
   "outputs": [
    {
     "data": {
      "text/plain": [
       "M    183616\n",
       "F    166247\n",
       "I        27\n",
       "Name: CS_SEXO, dtype: int64"
      ]
     },
     "execution_count": 18,
     "metadata": {},
     "output_type": "execute_result"
    }
   ],
   "source": [
    "df['CS_SEXO'].value_counts()"
   ]
  },
  {
   "cell_type": "code",
   "execution_count": 19,
   "id": "2c9b8938",
   "metadata": {},
   "outputs": [
    {
     "name": "stdout",
     "output_type": "stream",
     "text": [
      "<class 'pandas.core.frame.DataFrame'>\n",
      "Int64Index: 349863 entries, 8354 to 2275678\n",
      "Columns: 168 entries, DT_NOTIFIC to age\n",
      "dtypes: datetime64[ns](1), int64(2), object(165)\n",
      "memory usage: 451.1+ MB\n"
     ]
    }
   ],
   "source": [
    "# Removing ignored answers \n",
    "df = df[df['CS_SEXO'] != 'I'].copy()\n",
    "df.info()"
   ]
  },
  {
   "cell_type": "code",
   "execution_count": 20,
   "id": "651d3b62",
   "metadata": {},
   "outputs": [
    {
     "data": {
      "text/plain": [
       "1    183616\n",
       "0    166247\n",
       "Name: male, dtype: int64"
      ]
     },
     "execution_count": 20,
     "metadata": {},
     "output_type": "execute_result"
    }
   ],
   "source": [
    "df['male'] = df['CS_SEXO'].apply(lambda x: 1 if x == 'M' else 0)\n",
    "df['male'].value_counts()"
   ]
  },
  {
   "cell_type": "markdown",
   "id": "54000465",
   "metadata": {},
   "source": [
    "### Race"
   ]
  },
  {
   "cell_type": "code",
   "execution_count": 21,
   "id": "ef6ca65a",
   "metadata": {},
   "outputs": [
    {
     "data": {
      "text/plain": [
       "1    166440\n",
       "4    108299\n",
       "9     57255\n",
       "2     13873\n",
       "3      3437\n",
       "5       559\n",
       "Name: CS_RACA, dtype: int64"
      ]
     },
     "execution_count": 21,
     "metadata": {},
     "output_type": "execute_result"
    }
   ],
   "source": [
    "df['CS_RACA'].value_counts()"
   ]
  },
  {
   "cell_type": "code",
   "execution_count": 22,
   "id": "67f0b292",
   "metadata": {},
   "outputs": [
    {
     "data": {
      "text/plain": [
       "white         166440\n",
       "mixed         108299\n",
       "black          13873\n",
       "asian           3437\n",
       "indigenous       559\n",
       "Name: race, dtype: int64"
      ]
     },
     "execution_count": 22,
     "metadata": {},
     "output_type": "execute_result"
    }
   ],
   "source": [
    "race_dict = {'1': 'white', '2': 'black',\n",
    "             '3': 'asian', '4': 'mixed',\n",
    "             '5': 'indigenous', '9': 'n/a'}\n",
    "df['race'] = df['CS_RACA'].apply(lambda x: race_dict.get(x))\n",
    "df['race'] = df['race'].apply(lambda x: 'n/a' if pd.isna(x) else x)\n",
    "df = df[df['race'] != 'n/a'].copy()\n",
    "df['race'].value_counts()"
   ]
  },
  {
   "attachments": {},
   "cell_type": "markdown",
   "id": "b73e59bb",
   "metadata": {},
   "source": [
    "### Education"
   ]
  },
  {
   "cell_type": "code",
   "execution_count": 23,
   "id": "7e9ffa89",
   "metadata": {},
   "outputs": [
    {
     "data": {
      "text/plain": [
       "9    76802\n",
       "1    36198\n",
       "3    33052\n",
       "2    21745\n",
       "4    14586\n",
       "0    10316\n",
       "5       39\n",
       "Name: CS_ESCOL_N, dtype: int64"
      ]
     },
     "execution_count": 23,
     "metadata": {},
     "output_type": "execute_result"
    }
   ],
   "source": [
    "df['CS_ESCOL_N'].value_counts()"
   ]
  },
  {
   "cell_type": "code",
   "execution_count": 24,
   "id": "5ea0c5c1",
   "metadata": {},
   "outputs": [
    {
     "data": {
      "text/plain": [
       "illiterate    10316\n",
       "5_grade       36198\n",
       "9_grade       21745\n",
       "12_grade      33052\n",
       "higher_ed     14586\n",
       "Name: education, dtype: int64"
      ]
     },
     "execution_count": 24,
     "metadata": {},
     "output_type": "execute_result"
    }
   ],
   "source": [
    "ed_dict = {'0': 'illiterate', \n",
    "               '1': '5_grade', \n",
    "               '2': '9_grade', \n",
    "               '3': '12_grade', \n",
    "               '4': 'higher_ed',\n",
    "               '5': 'n/a',\n",
    "               '9': 'n/a'}\n",
    "df['education'] = df['CS_ESCOL_N'].apply(lambda x: ed_dict.get(x))\n",
    "df['education'] = df['education'].apply(lambda x: 'n/a' if pd.isna(x) else x)\n",
    "df = df[df['education'] != 'n/a'].copy()\n",
    "school_cat = ['illiterate', '5_grade', \n",
    "          '9_grade', '12_grade', 'higher_ed']\n",
    "df['education'] = pd.Categorical(df['education'], categories=school_cat)\n",
    "df['education'].value_counts().sort_index()"
   ]
  },
  {
   "attachments": {},
   "cell_type": "markdown",
   "id": "7be3fe4b",
   "metadata": {},
   "source": [
    "## Vaccination Status"
   ]
  },
  {
   "cell_type": "code",
   "execution_count": 27,
   "id": "01216cc5",
   "metadata": {},
   "outputs": [
    {
     "data": {
      "text/plain": [
       "vaccinated      81546\n",
       "unvaccinated    27220\n",
       "n/a              5229\n",
       "Name: vaccination_status, dtype: int64"
      ]
     },
     "execution_count": 27,
     "metadata": {},
     "output_type": "execute_result"
    }
   ],
   "source": [
    "# 1 = Vaccinated\n",
    "# 2 = Unvaccinated\n",
    "vaccination_dict = {'1': 'vaccinated', \n",
    "                    '2': 'unvaccinated', \n",
    "                    '9': 'n/a'}\n",
    "df['vaccination_status'] = df['VACINA_COV'].apply(lambda x: vaccination_dict.get(x))\n",
    "df['vaccination_status'].value_counts()"
   ]
  },
  {
   "cell_type": "code",
   "execution_count": 28,
   "id": "7d043e12",
   "metadata": {},
   "outputs": [
    {
     "data": {
      "text/plain": [
       "yes    73997\n",
       "n/a    41900\n",
       "Name: first_dose, dtype: int64"
      ]
     },
     "execution_count": 28,
     "metadata": {},
     "output_type": "execute_result"
    }
   ],
   "source": [
    "df['first_dose'] = df['DOSE_1_COV'].apply(lambda x: 'n/a' if pd.isna(x) else 'yes')\n",
    "df['first_dose'].value_counts()"
   ]
  },
  {
   "cell_type": "code",
   "execution_count": 29,
   "id": "c27ebed9",
   "metadata": {},
   "outputs": [
    {
     "data": {
      "text/plain": [
       "vaccination_status  first_dose\n",
       "n/a                 n/a            5201\n",
       "                    yes              28\n",
       "unvaccinated        n/a           27156\n",
       "                    yes              64\n",
       "vaccinated          n/a            7654\n",
       "                    yes           73892\n",
       "Name: age, dtype: int64"
      ]
     },
     "execution_count": 29,
     "metadata": {},
     "output_type": "execute_result"
    }
   ],
   "source": [
    "df.groupby(['vaccination_status', 'first_dose'])['age'].count()"
   ]
  },
  {
   "attachments": {},
   "cell_type": "markdown",
   "id": "4e9454cb",
   "metadata": {},
   "source": [
    "- There are vaccinated patients with no date of first_dose \n",
    "- There are unvaccinated patients with date of first_dose "
   ]
  },
  {
   "cell_type": "code",
   "execution_count": 30,
   "id": "0edc625f",
   "metadata": {},
   "outputs": [
    {
     "data": {
      "text/plain": [
       "yes    62253\n",
       "n/a    53644\n",
       "Name: second_dose, dtype: int64"
      ]
     },
     "execution_count": 30,
     "metadata": {},
     "output_type": "execute_result"
    }
   ],
   "source": [
    "df['second_dose'] = df['DOSE_2_COV'].apply(lambda x: 'n/a' if pd.isna(x) else 'yes')\n",
    "df['second_dose'].value_counts()"
   ]
  },
  {
   "cell_type": "code",
   "execution_count": 31,
   "id": "e06fa24c",
   "metadata": {},
   "outputs": [
    {
     "data": {
      "text/plain": [
       "first_dose  second_dose\n",
       "n/a         n/a            40598\n",
       "            yes             1302\n",
       "yes         n/a            13046\n",
       "            yes            60951\n",
       "Name: age, dtype: int64"
      ]
     },
     "execution_count": 31,
     "metadata": {},
     "output_type": "execute_result"
    }
   ],
   "source": [
    "df.groupby(['first_dose', 'second_dose'])['age'].count()"
   ]
  },
  {
   "attachments": {},
   "cell_type": "markdown",
   "id": "33baced2",
   "metadata": {},
   "source": [
    "- There are patients with date of second_dose without date of first_dose"
   ]
  },
  {
   "cell_type": "code",
   "execution_count": 32,
   "id": "3b3448c8",
   "metadata": {},
   "outputs": [
    {
     "data": {
      "text/plain": [
       "n/a    95057\n",
       "yes    20840\n",
       "Name: booster, dtype: int64"
      ]
     },
     "execution_count": 32,
     "metadata": {},
     "output_type": "execute_result"
    }
   ],
   "source": [
    "df['booster'] = df['DOSE_REF'].apply(lambda x: 'n/a' if pd.isna(x) else 'yes')\n",
    "df['booster'].value_counts()"
   ]
  },
  {
   "cell_type": "code",
   "execution_count": 33,
   "id": "2a8bd28b",
   "metadata": {},
   "outputs": [
    {
     "data": {
      "text/plain": [
       "second_dose  booster\n",
       "n/a          n/a        52968\n",
       "             yes          676\n",
       "yes          n/a        42089\n",
       "             yes        20164\n",
       "Name: age, dtype: int64"
      ]
     },
     "execution_count": 33,
     "metadata": {},
     "output_type": "execute_result"
    }
   ],
   "source": [
    "df.groupby(['second_dose', 'booster'])['age'].count()"
   ]
  },
  {
   "attachments": {},
   "cell_type": "markdown",
   "id": "f44eb989",
   "metadata": {},
   "source": [
    "- There are patients with date of booster without date of second_dose"
   ]
  },
  {
   "cell_type": "code",
   "execution_count": 35,
   "id": "147f3761",
   "metadata": {},
   "outputs": [
    {
     "data": {
      "text/plain": [
       "86 - COVID-19 SINOVAC/BUTANTAN - CORONAVAC        21992\n",
       "85 - COVID-19 ASTRAZENECA/FIOCRUZ - COVISHIELD    15437\n",
       "CORONAVAC                                          6419\n",
       "BUTANTAN                                           4431\n",
       "87 - COVID-19 PFIZER - COMIRNATY                   3943\n",
       "ASTRAZENECA                                        3594\n",
       "FIOCRUZ                                            1987\n",
       "PFIZER                                             1819\n",
       "ASTRAZENICA                                        1411\n",
       "SINOVAC/BUTANTAN                                    943\n",
       "86 - COVID-19-CORONAVAC-SINOVAC/BUTANTAN            820\n",
       "89 - COVID-19 ASTRAZENECA - CHADOX1-S               695\n",
       "SINOVAC                                             637\n",
       "OXFORD/FIOCRUZ                                      566\n",
       "OXFORD                                              565\n",
       "ASTRAZENECA/OXFORD/FIOCRUZ                          505\n",
       "FIO CRUZ                                            407\n",
       "JANSSEN                                             382\n",
       "85 - VACINA COVID-19 - COVISHIELD                   375\n",
       "COVID-19-CORONAVAC-SINOVAC/BUTANTAN                 365\n",
       "Name: FAB_COV_1, dtype: int64"
      ]
     },
     "execution_count": 35,
     "metadata": {},
     "output_type": "execute_result"
    }
   ],
   "source": [
    "df['FAB_COV_1'].value_counts().head(20)"
   ]
  },
  {
   "cell_type": "code",
   "execution_count": 36,
   "id": "b44ac31d",
   "metadata": {},
   "outputs": [
    {
     "data": {
      "text/plain": [
       "86 - COVID-19 SINOVAC/BUTANTAN - CORONAVAC        16254\n",
       "85 - COVID-19 ASTRAZENECA/FIOCRUZ - COVISHIELD    10488\n",
       "87 - COVID-19 PFIZER - COMIRNATY                   2246\n",
       "89 - COVID-19 ASTRAZENECA - CHADOX1-S               963\n",
       "CORONAVAC                                           547\n",
       "BUTANTAN                                            292\n",
       "ASTRAZENECA                                         245\n",
       "PFIZER                                              139\n",
       "FIOCRUZ                                             138\n",
       "INSTITUTO BUTANTAN                                   92\n",
       "SINOVAC/BUTANTAN                                     89\n",
       "ASTRAZENICA                                          76\n",
       "SINOVAC                                              59\n",
       "ASTRAZENECA/OXFORD/FIOCRUZ                           56\n",
       "FUNDACAO OSWALDO CRUZ                                49\n",
       "VACINA COVID-19 BUTANTAN                             48\n",
       "ASTRAZENECA/FIOCRUZ                                  32\n",
       "FIO CRUZ                                             27\n",
       "PFIZER MANUFACTURING BELGIUM NV - BELGICA            22\n",
       "VACINA COVID-19  FIOCRUZ                             18\n",
       "Name: FAB_COV_2, dtype: int64"
      ]
     },
     "execution_count": 36,
     "metadata": {},
     "output_type": "execute_result"
    }
   ],
   "source": [
    "df['FAB_COV_2'].value_counts().head(20)"
   ]
  },
  {
   "cell_type": "code",
   "execution_count": 37,
   "id": "b16a8490",
   "metadata": {},
   "outputs": [
    {
     "data": {
      "text/plain": [
       "87 - COVID-19 PFIZER - COMIRNATY                  14470\n",
       "86 - COVID-19 SINOVAC/BUTANTAN - CORONAVAC         2370\n",
       "88 - COVID-19 JANSSEN - AD26.COV2.S                1312\n",
       "85 - COVID-19 ASTRAZENECA/FIOCRUZ - COVISHIELD     1297\n",
       "PFIZER                                              755\n",
       "CORONAVAC                                           172\n",
       "PFIZER MANUFACTURING BELGIUM NV - BELGICA            68\n",
       "JANSSEN                                              29\n",
       "VACINA COVID-19 PFIZER                               24\n",
       "SINOVAC                                              22\n",
       "ASTRAZENECA                                          22\n",
       "SINOVAC/BUTANTAN                                     21\n",
       "VACINA COVID-19-RNAM, PFIZER (COMIRNATY)             12\n",
       "BUTANTAN                                             10\n",
       "FIOCRUZ                                              10\n",
       "ASTRAZENECA/OXFORD/FIOCRUZ                            8\n",
       "PFAIZER                                               7\n",
       "ASTRAZENICA                                           6\n",
       "JANSEN                                                6\n",
       "89 - COVID-19 ASTRAZENECA - CHADOX1-S                 5\n",
       "Name: FAB_COVREF, dtype: int64"
      ]
     },
     "execution_count": 37,
     "metadata": {},
     "output_type": "execute_result"
    }
   ],
   "source": [
    "df['FAB_COVREF'].value_counts().head(20)"
   ]
  },
  {
   "attachments": {},
   "cell_type": "markdown",
   "id": "9e087e74",
   "metadata": {},
   "source": [
    "## Comorbidities"
   ]
  },
  {
   "cell_type": "markdown",
   "id": "fe614c65",
   "metadata": {},
   "source": [
    "### Obesity "
   ]
  },
  {
   "cell_type": "code",
   "execution_count": 38,
   "id": "5757877c",
   "metadata": {},
   "outputs": [
    {
     "data": {
      "text/plain": [
       "2    50017\n",
       "1     9509\n",
       "9      810\n",
       "Name: OBESIDADE, dtype: int64"
      ]
     },
     "execution_count": 38,
     "metadata": {},
     "output_type": "execute_result"
    }
   ],
   "source": [
    "df['OBESIDADE'].value_counts()"
   ]
  },
  {
   "cell_type": "code",
   "execution_count": 39,
   "id": "6a524e7e",
   "metadata": {},
   "outputs": [
    {
     "name": "stdout",
     "output_type": "stream",
     "text": [
      "<class 'pandas.core.frame.DataFrame'>\n",
      "Int64Index: 59526 entries, 8459 to 2275666\n",
      "Columns: 175 entries, DT_NOTIFIC to booster\n",
      "dtypes: category(1), datetime64[ns](1), int64(3), object(170)\n",
      "memory usage: 79.5+ MB\n"
     ]
    }
   ],
   "source": [
    "df = df[(pd.notna(df['OBESIDADE'])) &\n",
    "        (df['OBESIDADE'] != '9')].copy()\n",
    "df.info()"
   ]
  },
  {
   "cell_type": "code",
   "execution_count": 40,
   "id": "73cded7d",
   "metadata": {},
   "outputs": [
    {
     "data": {
      "text/plain": [
       "0    50017\n",
       "1     9509\n",
       "Name: obesity, dtype: int64"
      ]
     },
     "execution_count": 40,
     "metadata": {},
     "output_type": "execute_result"
    }
   ],
   "source": [
    "df['obesity'] = df['OBESIDADE'].apply(lambda x: 1 if x == '1' else 0)\n",
    "df['obesity'].value_counts()"
   ]
  },
  {
   "cell_type": "markdown",
   "id": "b0270467",
   "metadata": {},
   "source": [
    "### BMI"
   ]
  },
  {
   "cell_type": "code",
   "execution_count": 41,
   "id": "199edb51",
   "metadata": {},
   "outputs": [
    {
     "data": {
      "text/plain": [
       "count    1938.000000\n",
       "mean       30.306605\n",
       "std        16.173835\n",
       "min         0.000000\n",
       "25%        29.625000\n",
       "50%        32.800000\n",
       "75%        37.975000\n",
       "max       329.000000\n",
       "Name: bmi, dtype: float64"
      ]
     },
     "execution_count": 41,
     "metadata": {},
     "output_type": "execute_result"
    }
   ],
   "source": [
    "df['bmi'] = df['OBES_IMC'].str.replace(',', '.')\n",
    "df['bmi'] = pd.to_numeric(df['bmi'])\n",
    "df['bmi'].describe()"
   ]
  },
  {
   "cell_type": "code",
   "execution_count": 42,
   "id": "9185c9a7",
   "metadata": {
    "scrolled": true
   },
   "outputs": [
    {
     "data": {
      "text/plain": [
       "obesity\n",
       "0          NaN\n",
       "1    30.306605\n",
       "Name: bmi, dtype: float64"
      ]
     },
     "execution_count": 42,
     "metadata": {},
     "output_type": "execute_result"
    }
   ],
   "source": [
    "df.groupby(['obesity'])['bmi'].mean()\n",
    "# BMI is only filled out for patients with obesity"
   ]
  },
  {
   "cell_type": "code",
   "execution_count": 43,
   "id": "24206af5",
   "metadata": {
    "scrolled": false
   },
   "outputs": [
    {
     "data": {
      "text/plain": [
       "death\n",
       "0    30.290288\n",
       "1    30.341290\n",
       "Name: bmi, dtype: float64"
      ]
     },
     "execution_count": 43,
     "metadata": {},
     "output_type": "execute_result"
    }
   ],
   "source": [
    "df.groupby(['death'])['bmi'].mean()"
   ]
  },
  {
   "cell_type": "code",
   "execution_count": 44,
   "id": "471a0a51",
   "metadata": {
    "scrolled": true
   },
   "outputs": [
    {
     "data": {
      "image/png": "[encoded data removed]",
      "text/plain": [
       "<Figure size 640x480 with 1 Axes>"
      ]
     },
     "metadata": {},
     "output_type": "display_data"
    }
   ],
   "source": [
    "sns.boxplot(data=df[df['bmi'] < 100], x='death', y='bmi');"
   ]
  },
  {
   "cell_type": "markdown",
   "id": "1fa65883",
   "metadata": {},
   "source": [
    "### Diabetes"
   ]
  },
  {
   "cell_type": "code",
   "execution_count": 45,
   "id": "5d92682a",
   "metadata": {},
   "outputs": [
    {
     "data": {
      "text/plain": [
       "2    36452\n",
       "1    21385\n",
       "9       74\n",
       "Name: DIABETES, dtype: int64"
      ]
     },
     "execution_count": 45,
     "metadata": {},
     "output_type": "execute_result"
    }
   ],
   "source": [
    "df['DIABETES'].value_counts()"
   ]
  },
  {
   "cell_type": "code",
   "execution_count": 46,
   "id": "09cb0a82",
   "metadata": {},
   "outputs": [
    {
     "name": "stdout",
     "output_type": "stream",
     "text": [
      "<class 'pandas.core.frame.DataFrame'>\n",
      "Int64Index: 57837 entries, 8459 to 2275666\n",
      "Columns: 177 entries, DT_NOTIFIC to bmi\n",
      "dtypes: category(1), datetime64[ns](1), float64(1), int64(4), object(170)\n",
      "memory usage: 78.2+ MB\n"
     ]
    }
   ],
   "source": [
    "# Removing missing values\n",
    "df = df[(pd.notna(df['DIABETES'])) &\n",
    "        (df['DIABETES'] != '9')].copy()\n",
    "df.info()"
   ]
  },
  {
   "cell_type": "code",
   "execution_count": 47,
   "id": "46109321",
   "metadata": {},
   "outputs": [
    {
     "data": {
      "text/plain": [
       "0    36452\n",
       "1    21385\n",
       "Name: diabetes, dtype: int64"
      ]
     },
     "execution_count": 47,
     "metadata": {},
     "output_type": "execute_result"
    }
   ],
   "source": [
    "df['diabetes'] = df['DIABETES'].apply(lambda x: 1 if x == '1' else 0)\n",
    "df['diabetes'].value_counts()"
   ]
  },
  {
   "cell_type": "code",
   "execution_count": 48,
   "id": "e69f7e75",
   "metadata": {},
   "outputs": [
    {
     "data": {
      "text/html": [
       "<div>\n",
       "<style scoped>\n",
       "    .dataframe tbody tr th:only-of-type {\n",
       "        vertical-align: middle;\n",
       "    }\n",
       "\n",
       "    .dataframe tbody tr th {\n",
       "        vertical-align: top;\n",
       "    }\n",
       "\n",
       "    .dataframe thead th {\n",
       "        text-align: right;\n",
       "    }\n",
       "</style>\n",
       "<table border=\"1\" class=\"dataframe\">\n",
       "  <thead>\n",
       "    <tr style=\"text-align: right;\">\n",
       "      <th>death</th>\n",
       "      <th>0</th>\n",
       "      <th>1</th>\n",
       "    </tr>\n",
       "    <tr>\n",
       "      <th>diabetes</th>\n",
       "      <th></th>\n",
       "      <th></th>\n",
       "    </tr>\n",
       "  </thead>\n",
       "  <tbody>\n",
       "    <tr>\n",
       "      <th>0</th>\n",
       "      <td>0.639444</td>\n",
       "      <td>0.360556</td>\n",
       "    </tr>\n",
       "    <tr>\n",
       "      <th>1</th>\n",
       "      <td>0.601450</td>\n",
       "      <td>0.398550</td>\n",
       "    </tr>\n",
       "  </tbody>\n",
       "</table>\n",
       "</div>"
      ],
      "text/plain": [
       "death            0         1\n",
       "diabetes                    \n",
       "0         0.639444  0.360556\n",
       "1         0.601450  0.398550"
      ]
     },
     "execution_count": 48,
     "metadata": {},
     "output_type": "execute_result"
    }
   ],
   "source": [
    "df.groupby('diabetes')['death'].value_counts(normalize=True).unstack()"
   ]
  },
  {
   "cell_type": "markdown",
   "id": "b335946a",
   "metadata": {},
   "source": [
    "### Heart disease"
   ]
  },
  {
   "cell_type": "code",
   "execution_count": 49,
   "id": "a4ce40af",
   "metadata": {},
   "outputs": [
    {
     "name": "stdout",
     "output_type": "stream",
     "text": [
      "<class 'pandas.core.frame.DataFrame'>\n",
      "Int64Index: 57364 entries, 8459 to 2275666\n",
      "Columns: 178 entries, DT_NOTIFIC to diabetes\n",
      "dtypes: category(1), datetime64[ns](1), float64(1), int64(5), object(170)\n",
      "memory usage: 78.0+ MB\n"
     ]
    }
   ],
   "source": [
    "# Removing missing values\n",
    "df = df[(pd.notna(df['CARDIOPATI'])) &\n",
    "        (df['CARDIOPATI'] != '9')].copy()\n",
    "df.info()"
   ]
  },
  {
   "cell_type": "code",
   "execution_count": 50,
   "id": "f9b7ad98",
   "metadata": {},
   "outputs": [
    {
     "data": {
      "text/plain": [
       "1    31011\n",
       "2    26353\n",
       "Name: CARDIOPATI, dtype: int64"
      ]
     },
     "execution_count": 50,
     "metadata": {},
     "output_type": "execute_result"
    }
   ],
   "source": [
    "df['CARDIOPATI'].value_counts()"
   ]
  },
  {
   "cell_type": "code",
   "execution_count": 51,
   "id": "41291802",
   "metadata": {
    "scrolled": true
   },
   "outputs": [
    {
     "data": {
      "text/plain": [
       "1    31011\n",
       "0    26353\n",
       "Name: heart_disease, dtype: int64"
      ]
     },
     "execution_count": 51,
     "metadata": {},
     "output_type": "execute_result"
    }
   ],
   "source": [
    "df['heart_disease'] = df['CARDIOPATI'].apply(lambda x: 1 if x == '1' else 0)\n",
    "df['heart_disease'].value_counts()"
   ]
  },
  {
   "cell_type": "code",
   "execution_count": 52,
   "id": "bf62398a",
   "metadata": {},
   "outputs": [
    {
     "data": {
      "text/html": [
       "<div>\n",
       "<style scoped>\n",
       "    .dataframe tbody tr th:only-of-type {\n",
       "        vertical-align: middle;\n",
       "    }\n",
       "\n",
       "    .dataframe tbody tr th {\n",
       "        vertical-align: top;\n",
       "    }\n",
       "\n",
       "    .dataframe thead th {\n",
       "        text-align: right;\n",
       "    }\n",
       "</style>\n",
       "<table border=\"1\" class=\"dataframe\">\n",
       "  <thead>\n",
       "    <tr style=\"text-align: right;\">\n",
       "      <th>death</th>\n",
       "      <th>0</th>\n",
       "      <th>1</th>\n",
       "    </tr>\n",
       "    <tr>\n",
       "      <th>heart_disease</th>\n",
       "      <th></th>\n",
       "      <th></th>\n",
       "    </tr>\n",
       "  </thead>\n",
       "  <tbody>\n",
       "    <tr>\n",
       "      <th>0</th>\n",
       "      <td>0.661367</td>\n",
       "      <td>0.338633</td>\n",
       "    </tr>\n",
       "    <tr>\n",
       "      <th>1</th>\n",
       "      <td>0.595660</td>\n",
       "      <td>0.404340</td>\n",
       "    </tr>\n",
       "  </tbody>\n",
       "</table>\n",
       "</div>"
      ],
      "text/plain": [
       "death                 0         1\n",
       "heart_disease                    \n",
       "0              0.661367  0.338633\n",
       "1              0.595660  0.404340"
      ]
     },
     "execution_count": 52,
     "metadata": {},
     "output_type": "execute_result"
    }
   ],
   "source": [
    "df.groupby('heart_disease')['death'].value_counts(normalize=True).unstack()"
   ]
  },
  {
   "cell_type": "markdown",
   "id": "f4f1887c",
   "metadata": {},
   "source": [
    "### Lung disease"
   ]
  },
  {
   "cell_type": "code",
   "execution_count": 53,
   "id": "12d48a93",
   "metadata": {},
   "outputs": [
    {
     "name": "stdout",
     "output_type": "stream",
     "text": [
      "<class 'pandas.core.frame.DataFrame'>\n",
      "Int64Index: 56603 entries, 8459 to 2275666\n",
      "Columns: 179 entries, DT_NOTIFIC to heart_disease\n",
      "dtypes: category(1), datetime64[ns](1), float64(1), int64(6), object(170)\n",
      "memory usage: 77.4+ MB\n"
     ]
    }
   ],
   "source": [
    "# Removing missing values\n",
    "df = df[(pd.notna(df['PNEUMOPATI'])) &\n",
    "        (df['PNEUMOPATI'] != '9')].copy()\n",
    "df.info()"
   ]
  },
  {
   "cell_type": "code",
   "execution_count": 54,
   "id": "4d128c01",
   "metadata": {},
   "outputs": [
    {
     "data": {
      "text/plain": [
       "2    51909\n",
       "1     4694\n",
       "Name: PNEUMOPATI, dtype: int64"
      ]
     },
     "execution_count": 54,
     "metadata": {},
     "output_type": "execute_result"
    }
   ],
   "source": [
    "df['PNEUMOPATI'].value_counts()"
   ]
  },
  {
   "cell_type": "code",
   "execution_count": 55,
   "id": "75b54b42",
   "metadata": {},
   "outputs": [
    {
     "data": {
      "text/plain": [
       "0    51909\n",
       "1     4694\n",
       "Name: lung_disease, dtype: int64"
      ]
     },
     "execution_count": 55,
     "metadata": {},
     "output_type": "execute_result"
    }
   ],
   "source": [
    "df['lung_disease'] = df['PNEUMOPATI'].apply(lambda x: 1 if x == '1' else 0)\n",
    "df['lung_disease'].value_counts()"
   ]
  },
  {
   "cell_type": "code",
   "execution_count": 56,
   "id": "f1cbe5db",
   "metadata": {},
   "outputs": [
    {
     "data": {
      "text/html": [
       "<div>\n",
       "<style scoped>\n",
       "    .dataframe tbody tr th:only-of-type {\n",
       "        vertical-align: middle;\n",
       "    }\n",
       "\n",
       "    .dataframe tbody tr th {\n",
       "        vertical-align: top;\n",
       "    }\n",
       "\n",
       "    .dataframe thead th {\n",
       "        text-align: right;\n",
       "    }\n",
       "</style>\n",
       "<table border=\"1\" class=\"dataframe\">\n",
       "  <thead>\n",
       "    <tr style=\"text-align: right;\">\n",
       "      <th>death</th>\n",
       "      <th>0</th>\n",
       "      <th>1</th>\n",
       "    </tr>\n",
       "    <tr>\n",
       "      <th>lung_disease</th>\n",
       "      <th></th>\n",
       "      <th></th>\n",
       "    </tr>\n",
       "  </thead>\n",
       "  <tbody>\n",
       "    <tr>\n",
       "      <th>0</th>\n",
       "      <td>0.636421</td>\n",
       "      <td>0.363579</td>\n",
       "    </tr>\n",
       "    <tr>\n",
       "      <th>1</th>\n",
       "      <td>0.528121</td>\n",
       "      <td>0.471879</td>\n",
       "    </tr>\n",
       "  </tbody>\n",
       "</table>\n",
       "</div>"
      ],
      "text/plain": [
       "death                0         1\n",
       "lung_disease                    \n",
       "0             0.636421  0.363579\n",
       "1             0.528121  0.471879"
      ]
     },
     "execution_count": 56,
     "metadata": {},
     "output_type": "execute_result"
    }
   ],
   "source": [
    "df.groupby('lung_disease')['death'].value_counts(normalize=True).unstack()"
   ]
  },
  {
   "cell_type": "markdown",
   "id": "5d5f289a",
   "metadata": {},
   "source": [
    "### Kidney disease"
   ]
  },
  {
   "cell_type": "code",
   "execution_count": 57,
   "id": "5b0f965a",
   "metadata": {},
   "outputs": [
    {
     "name": "stdout",
     "output_type": "stream",
     "text": [
      "<class 'pandas.core.frame.DataFrame'>\n",
      "Int64Index: 56238 entries, 8459 to 2275666\n",
      "Columns: 180 entries, DT_NOTIFIC to lung_disease\n",
      "dtypes: category(1), datetime64[ns](1), float64(1), int64(7), object(170)\n",
      "memory usage: 77.3+ MB\n"
     ]
    }
   ],
   "source": [
    "# Removing missing values\n",
    "df = df[(pd.notna(df['RENAL'])) &\n",
    "        (df['RENAL'] != '9')].copy()\n",
    "df.info() "
   ]
  },
  {
   "cell_type": "code",
   "execution_count": 58,
   "id": "7def0431",
   "metadata": {},
   "outputs": [
    {
     "data": {
      "text/plain": [
       "2    51826\n",
       "1     4412\n",
       "Name: RENAL, dtype: int64"
      ]
     },
     "execution_count": 58,
     "metadata": {},
     "output_type": "execute_result"
    }
   ],
   "source": [
    "df['RENAL'].value_counts()"
   ]
  },
  {
   "cell_type": "code",
   "execution_count": 59,
   "id": "6c3f0210",
   "metadata": {},
   "outputs": [
    {
     "data": {
      "text/plain": [
       "0    51826\n",
       "1     4412\n",
       "Name: kidney_disease, dtype: int64"
      ]
     },
     "execution_count": 59,
     "metadata": {},
     "output_type": "execute_result"
    }
   ],
   "source": [
    "df['kidney_disease'] = df['RENAL'].apply(lambda x: 1 if x == '1' else 0)\n",
    "df['kidney_disease'].value_counts()"
   ]
  },
  {
   "cell_type": "code",
   "execution_count": 60,
   "id": "e497a3b8",
   "metadata": {},
   "outputs": [
    {
     "data": {
      "text/html": [
       "<div>\n",
       "<style scoped>\n",
       "    .dataframe tbody tr th:only-of-type {\n",
       "        vertical-align: middle;\n",
       "    }\n",
       "\n",
       "    .dataframe tbody tr th {\n",
       "        vertical-align: top;\n",
       "    }\n",
       "\n",
       "    .dataframe thead th {\n",
       "        text-align: right;\n",
       "    }\n",
       "</style>\n",
       "<table border=\"1\" class=\"dataframe\">\n",
       "  <thead>\n",
       "    <tr style=\"text-align: right;\">\n",
       "      <th>death</th>\n",
       "      <th>0</th>\n",
       "      <th>1</th>\n",
       "    </tr>\n",
       "    <tr>\n",
       "      <th>kidney_disease</th>\n",
       "      <th></th>\n",
       "      <th></th>\n",
       "    </tr>\n",
       "  </thead>\n",
       "  <tbody>\n",
       "    <tr>\n",
       "      <th>0</th>\n",
       "      <td>0.639930</td>\n",
       "      <td>0.360070</td>\n",
       "    </tr>\n",
       "    <tr>\n",
       "      <th>1</th>\n",
       "      <td>0.485041</td>\n",
       "      <td>0.514959</td>\n",
       "    </tr>\n",
       "  </tbody>\n",
       "</table>\n",
       "</div>"
      ],
      "text/plain": [
       "death                  0         1\n",
       "kidney_disease                    \n",
       "0               0.639930  0.360070\n",
       "1               0.485041  0.514959"
      ]
     },
     "execution_count": 60,
     "metadata": {},
     "output_type": "execute_result"
    }
   ],
   "source": [
    "df.groupby('kidney_disease')['death'].value_counts(normalize=True).unstack()"
   ]
  },
  {
   "cell_type": "markdown",
   "id": "f3d9ddd4",
   "metadata": {},
   "source": [
    "### Liver disease"
   ]
  },
  {
   "cell_type": "code",
   "execution_count": 61,
   "id": "51f59f30",
   "metadata": {},
   "outputs": [
    {
     "name": "stdout",
     "output_type": "stream",
     "text": [
      "<class 'pandas.core.frame.DataFrame'>\n",
      "Int64Index: 55882 entries, 8459 to 2275666\n",
      "Columns: 181 entries, DT_NOTIFIC to kidney_disease\n",
      "dtypes: category(1), datetime64[ns](1), float64(1), int64(8), object(170)\n",
      "memory usage: 77.2+ MB\n"
     ]
    }
   ],
   "source": [
    "# Removing missing values\n",
    "df = df[(pd.notna(df['HEPATICA'])) &\n",
    "        (df['HEPATICA'] != '9')].copy()\n",
    "df.info() "
   ]
  },
  {
   "cell_type": "code",
   "execution_count": 62,
   "id": "8979b95e",
   "metadata": {},
   "outputs": [
    {
     "data": {
      "text/plain": [
       "2    54902\n",
       "1      980\n",
       "Name: HEPATICA, dtype: int64"
      ]
     },
     "execution_count": 62,
     "metadata": {},
     "output_type": "execute_result"
    }
   ],
   "source": [
    "df['HEPATICA'].value_counts()"
   ]
  },
  {
   "cell_type": "code",
   "execution_count": 63,
   "id": "d3076183",
   "metadata": {},
   "outputs": [
    {
     "data": {
      "text/plain": [
       "0    54902\n",
       "1      980\n",
       "Name: liver_disease, dtype: int64"
      ]
     },
     "execution_count": 63,
     "metadata": {},
     "output_type": "execute_result"
    }
   ],
   "source": [
    "df['liver_disease'] = df['HEPATICA'].apply(lambda x: 1 if x == '1' else 0)\n",
    "df['liver_disease'].value_counts()"
   ]
  },
  {
   "cell_type": "code",
   "execution_count": 64,
   "id": "57d10dec",
   "metadata": {},
   "outputs": [
    {
     "data": {
      "text/html": [
       "<div>\n",
       "<style scoped>\n",
       "    .dataframe tbody tr th:only-of-type {\n",
       "        vertical-align: middle;\n",
       "    }\n",
       "\n",
       "    .dataframe tbody tr th {\n",
       "        vertical-align: top;\n",
       "    }\n",
       "\n",
       "    .dataframe thead th {\n",
       "        text-align: right;\n",
       "    }\n",
       "</style>\n",
       "<table border=\"1\" class=\"dataframe\">\n",
       "  <thead>\n",
       "    <tr style=\"text-align: right;\">\n",
       "      <th>death</th>\n",
       "      <th>0</th>\n",
       "      <th>1</th>\n",
       "    </tr>\n",
       "    <tr>\n",
       "      <th>liver_disease</th>\n",
       "      <th></th>\n",
       "      <th></th>\n",
       "    </tr>\n",
       "  </thead>\n",
       "  <tbody>\n",
       "    <tr>\n",
       "      <th>0</th>\n",
       "      <td>0.630979</td>\n",
       "      <td>0.369021</td>\n",
       "    </tr>\n",
       "    <tr>\n",
       "      <th>1</th>\n",
       "      <td>0.471429</td>\n",
       "      <td>0.528571</td>\n",
       "    </tr>\n",
       "  </tbody>\n",
       "</table>\n",
       "</div>"
      ],
      "text/plain": [
       "death                 0         1\n",
       "liver_disease                    \n",
       "0              0.630979  0.369021\n",
       "1              0.471429  0.528571"
      ]
     },
     "execution_count": 64,
     "metadata": {},
     "output_type": "execute_result"
    }
   ],
   "source": [
    "df.groupby('liver_disease')['death'].value_counts(normalize=True).unstack()"
   ]
  },
  {
   "cell_type": "markdown",
   "id": "cf5e2c19",
   "metadata": {},
   "source": [
    "### Blood disease"
   ]
  },
  {
   "cell_type": "code",
   "execution_count": 65,
   "id": "767e950e",
   "metadata": {},
   "outputs": [
    {
     "name": "stdout",
     "output_type": "stream",
     "text": [
      "<class 'pandas.core.frame.DataFrame'>\n",
      "Int64Index: 55733 entries, 8459 to 2275666\n",
      "Columns: 182 entries, DT_NOTIFIC to liver_disease\n",
      "dtypes: category(1), datetime64[ns](1), float64(1), int64(9), object(170)\n",
      "memory usage: 77.4+ MB\n"
     ]
    }
   ],
   "source": [
    "# Removing missing values\n",
    "df = df[(pd.notna(df['HEMATOLOGI'])) &\n",
    "        (df['HEMATOLOGI'] != '9')].copy()\n",
    "df.info() "
   ]
  },
  {
   "cell_type": "code",
   "execution_count": 66,
   "id": "9c62e7c7",
   "metadata": {},
   "outputs": [
    {
     "data": {
      "text/plain": [
       "2    54823\n",
       "1      910\n",
       "Name: HEMATOLOGI, dtype: int64"
      ]
     },
     "execution_count": 66,
     "metadata": {},
     "output_type": "execute_result"
    }
   ],
   "source": [
    "df['HEMATOLOGI'].value_counts()"
   ]
  },
  {
   "cell_type": "code",
   "execution_count": 67,
   "id": "ec012e75",
   "metadata": {},
   "outputs": [
    {
     "data": {
      "text/plain": [
       "0    54823\n",
       "1      910\n",
       "Name: blood_disease, dtype: int64"
      ]
     },
     "execution_count": 67,
     "metadata": {},
     "output_type": "execute_result"
    }
   ],
   "source": [
    "df['blood_disease'] = df['HEMATOLOGI'].apply(lambda x: 1 if x == '1' else 0)\n",
    "df['blood_disease'].value_counts()"
   ]
  },
  {
   "cell_type": "code",
   "execution_count": 68,
   "id": "aeb1ec95",
   "metadata": {},
   "outputs": [
    {
     "data": {
      "text/html": [
       "<div>\n",
       "<style scoped>\n",
       "    .dataframe tbody tr th:only-of-type {\n",
       "        vertical-align: middle;\n",
       "    }\n",
       "\n",
       "    .dataframe tbody tr th {\n",
       "        vertical-align: top;\n",
       "    }\n",
       "\n",
       "    .dataframe thead th {\n",
       "        text-align: right;\n",
       "    }\n",
       "</style>\n",
       "<table border=\"1\" class=\"dataframe\">\n",
       "  <thead>\n",
       "    <tr style=\"text-align: right;\">\n",
       "      <th>death</th>\n",
       "      <th>0</th>\n",
       "      <th>1</th>\n",
       "    </tr>\n",
       "    <tr>\n",
       "      <th>blood_disease</th>\n",
       "      <th></th>\n",
       "      <th></th>\n",
       "    </tr>\n",
       "  </thead>\n",
       "  <tbody>\n",
       "    <tr>\n",
       "      <th>0</th>\n",
       "      <td>0.629371</td>\n",
       "      <td>0.370629</td>\n",
       "    </tr>\n",
       "    <tr>\n",
       "      <th>1</th>\n",
       "      <td>0.560440</td>\n",
       "      <td>0.439560</td>\n",
       "    </tr>\n",
       "  </tbody>\n",
       "</table>\n",
       "</div>"
      ],
      "text/plain": [
       "death                 0         1\n",
       "blood_disease                    \n",
       "0              0.629371  0.370629\n",
       "1              0.560440  0.439560"
      ]
     },
     "execution_count": 68,
     "metadata": {},
     "output_type": "execute_result"
    }
   ],
   "source": [
    "df.groupby('blood_disease')['death'].value_counts(normalize=True).unstack()"
   ]
  },
  {
   "cell_type": "markdown",
   "id": "b7749e37",
   "metadata": {},
   "source": [
    "### Immunocompromised"
   ]
  },
  {
   "cell_type": "code",
   "execution_count": 69,
   "id": "4278aa2d",
   "metadata": {},
   "outputs": [
    {
     "name": "stdout",
     "output_type": "stream",
     "text": [
      "<class 'pandas.core.frame.DataFrame'>\n",
      "Int64Index: 55525 entries, 8459 to 2275666\n",
      "Columns: 183 entries, DT_NOTIFIC to blood_disease\n",
      "dtypes: category(1), datetime64[ns](1), float64(1), int64(10), object(170)\n",
      "memory usage: 77.6+ MB\n"
     ]
    }
   ],
   "source": [
    "# Removing missing values\n",
    "df = df[(pd.notna(df['IMUNODEPRE'])) &\n",
    "        (df['IMUNODEPRE'] != '9')].copy()\n",
    "df.info()"
   ]
  },
  {
   "cell_type": "code",
   "execution_count": 70,
   "id": "97d1651c",
   "metadata": {},
   "outputs": [
    {
     "data": {
      "text/plain": [
       "2    51851\n",
       "1     3674\n",
       "Name: IMUNODEPRE, dtype: int64"
      ]
     },
     "execution_count": 70,
     "metadata": {},
     "output_type": "execute_result"
    }
   ],
   "source": [
    "df['IMUNODEPRE'].value_counts()"
   ]
  },
  {
   "cell_type": "code",
   "execution_count": 71,
   "id": "9d47ac62",
   "metadata": {},
   "outputs": [
    {
     "data": {
      "text/plain": [
       "0    51851\n",
       "1     3674\n",
       "Name: immunocompromised, dtype: int64"
      ]
     },
     "execution_count": 71,
     "metadata": {},
     "output_type": "execute_result"
    }
   ],
   "source": [
    "df['immunocompromised'] = df['IMUNODEPRE'].apply(lambda x: 1 if x == '1' else 0)\n",
    "df['immunocompromised'].value_counts()"
   ]
  },
  {
   "cell_type": "code",
   "execution_count": 72,
   "id": "0df5f136",
   "metadata": {},
   "outputs": [
    {
     "data": {
      "text/html": [
       "<div>\n",
       "<style scoped>\n",
       "    .dataframe tbody tr th:only-of-type {\n",
       "        vertical-align: middle;\n",
       "    }\n",
       "\n",
       "    .dataframe tbody tr th {\n",
       "        vertical-align: top;\n",
       "    }\n",
       "\n",
       "    .dataframe thead th {\n",
       "        text-align: right;\n",
       "    }\n",
       "</style>\n",
       "<table border=\"1\" class=\"dataframe\">\n",
       "  <thead>\n",
       "    <tr style=\"text-align: right;\">\n",
       "      <th>death</th>\n",
       "      <th>0</th>\n",
       "      <th>1</th>\n",
       "    </tr>\n",
       "    <tr>\n",
       "      <th>immunocompromised</th>\n",
       "      <th></th>\n",
       "      <th></th>\n",
       "    </tr>\n",
       "  </thead>\n",
       "  <tbody>\n",
       "    <tr>\n",
       "      <th>0</th>\n",
       "      <td>0.635108</td>\n",
       "      <td>0.364892</td>\n",
       "    </tr>\n",
       "    <tr>\n",
       "      <th>1</th>\n",
       "      <td>0.531029</td>\n",
       "      <td>0.468971</td>\n",
       "    </tr>\n",
       "  </tbody>\n",
       "</table>\n",
       "</div>"
      ],
      "text/plain": [
       "death                     0         1\n",
       "immunocompromised                    \n",
       "0                  0.635108  0.364892\n",
       "1                  0.531029  0.468971"
      ]
     },
     "execution_count": 72,
     "metadata": {},
     "output_type": "execute_result"
    }
   ],
   "source": [
    "df.groupby('immunocompromised')['death'].value_counts(normalize=True).unstack()"
   ]
  },
  {
   "cell_type": "markdown",
   "id": "db13227b",
   "metadata": {},
   "source": [
    "### Asthma"
   ]
  },
  {
   "cell_type": "code",
   "execution_count": 73,
   "id": "ec3887d1",
   "metadata": {},
   "outputs": [
    {
     "name": "stdout",
     "output_type": "stream",
     "text": [
      "<class 'pandas.core.frame.DataFrame'>\n",
      "Int64Index: 55088 entries, 8459 to 2275666\n",
      "Columns: 184 entries, DT_NOTIFIC to immunocompromised\n",
      "dtypes: category(1), datetime64[ns](1), float64(1), int64(11), object(170)\n",
      "memory usage: 77.4+ MB\n"
     ]
    }
   ],
   "source": [
    "# Removing missing values\n",
    "df = df[(pd.notna(df['ASMA'])) &\n",
    "        (df['ASMA'] != '9')].copy()\n",
    "df.info()"
   ]
  },
  {
   "cell_type": "code",
   "execution_count": 74,
   "id": "fee69446",
   "metadata": {},
   "outputs": [
    {
     "data": {
      "text/plain": [
       "2    52853\n",
       "1     2235\n",
       "Name: ASMA, dtype: int64"
      ]
     },
     "execution_count": 74,
     "metadata": {},
     "output_type": "execute_result"
    }
   ],
   "source": [
    "df['ASMA'].value_counts()"
   ]
  },
  {
   "cell_type": "code",
   "execution_count": 75,
   "id": "2bec17aa",
   "metadata": {},
   "outputs": [
    {
     "data": {
      "text/plain": [
       "0    52853\n",
       "1     2235\n",
       "Name: asthma, dtype: int64"
      ]
     },
     "execution_count": 75,
     "metadata": {},
     "output_type": "execute_result"
    }
   ],
   "source": [
    "df['asthma'] = df['ASMA'].apply(lambda x: 1 if x == '1' else 0)\n",
    "df['asthma'].value_counts()"
   ]
  },
  {
   "cell_type": "code",
   "execution_count": 76,
   "id": "7b694958",
   "metadata": {},
   "outputs": [
    {
     "data": {
      "text/html": [
       "<div>\n",
       "<style scoped>\n",
       "    .dataframe tbody tr th:only-of-type {\n",
       "        vertical-align: middle;\n",
       "    }\n",
       "\n",
       "    .dataframe tbody tr th {\n",
       "        vertical-align: top;\n",
       "    }\n",
       "\n",
       "    .dataframe thead th {\n",
       "        text-align: right;\n",
       "    }\n",
       "</style>\n",
       "<table border=\"1\" class=\"dataframe\">\n",
       "  <thead>\n",
       "    <tr style=\"text-align: right;\">\n",
       "      <th>death</th>\n",
       "      <th>0</th>\n",
       "      <th>1</th>\n",
       "    </tr>\n",
       "    <tr>\n",
       "      <th>asthma</th>\n",
       "      <th></th>\n",
       "      <th></th>\n",
       "    </tr>\n",
       "  </thead>\n",
       "  <tbody>\n",
       "    <tr>\n",
       "      <th>0</th>\n",
       "      <td>0.623976</td>\n",
       "      <td>0.376024</td>\n",
       "    </tr>\n",
       "    <tr>\n",
       "      <th>1</th>\n",
       "      <td>0.739150</td>\n",
       "      <td>0.260850</td>\n",
       "    </tr>\n",
       "  </tbody>\n",
       "</table>\n",
       "</div>"
      ],
      "text/plain": [
       "death          0         1\n",
       "asthma                    \n",
       "0       0.623976  0.376024\n",
       "1       0.739150  0.260850"
      ]
     },
     "execution_count": 76,
     "metadata": {},
     "output_type": "execute_result"
    }
   ],
   "source": [
    "df.groupby('asthma')['death'].value_counts(normalize=True).unstack()"
   ]
  },
  {
   "cell_type": "markdown",
   "id": "647d6ecb",
   "metadata": {},
   "source": [
    "### Pregnancy"
   ]
  },
  {
   "cell_type": "code",
   "execution_count": 77,
   "id": "de8f4315",
   "metadata": {},
   "outputs": [
    {
     "name": "stdout",
     "output_type": "stream",
     "text": [
      "<class 'pandas.core.frame.DataFrame'>\n",
      "Int64Index: 54359 entries, 8459 to 2275666\n",
      "Columns: 185 entries, DT_NOTIFIC to asthma\n",
      "dtypes: category(1), datetime64[ns](1), float64(1), int64(12), object(170)\n",
      "memory usage: 76.8+ MB\n"
     ]
    }
   ],
   "source": [
    "# Removing missing values\n",
    "df = df[(pd.notna(df['PUERPERA'])) &\n",
    "        (df['PUERPERA'] != '9')].copy()\n",
    "df.info()"
   ]
  },
  {
   "cell_type": "code",
   "execution_count": 78,
   "id": "fdfc3af0",
   "metadata": {},
   "outputs": [
    {
     "data": {
      "text/plain": [
       "2    53870\n",
       "1      489\n",
       "Name: PUERPERA, dtype: int64"
      ]
     },
     "execution_count": 78,
     "metadata": {},
     "output_type": "execute_result"
    }
   ],
   "source": [
    "df['PUERPERA'].value_counts()"
   ]
  },
  {
   "cell_type": "code",
   "execution_count": 79,
   "id": "6aac38bb",
   "metadata": {},
   "outputs": [
    {
     "data": {
      "text/html": [
       "<div>\n",
       "<style scoped>\n",
       "    .dataframe tbody tr th:only-of-type {\n",
       "        vertical-align: middle;\n",
       "    }\n",
       "\n",
       "    .dataframe tbody tr th {\n",
       "        vertical-align: top;\n",
       "    }\n",
       "\n",
       "    .dataframe thead th {\n",
       "        text-align: right;\n",
       "    }\n",
       "</style>\n",
       "<table border=\"1\" class=\"dataframe\">\n",
       "  <thead>\n",
       "    <tr style=\"text-align: right;\">\n",
       "      <th></th>\n",
       "      <th>DT_NOTIFIC</th>\n",
       "      <th>SEM_NOT</th>\n",
       "      <th>DT_SIN_PRI</th>\n",
       "      <th>SEM_PRI</th>\n",
       "      <th>SG_UF_NOT</th>\n",
       "      <th>ID_REGIONA</th>\n",
       "      <th>CO_REGIONA</th>\n",
       "      <th>ID_MUNICIP</th>\n",
       "      <th>CO_MUN_NOT</th>\n",
       "      <th>ID_UNIDADE</th>\n",
       "      <th>...</th>\n",
       "      <th>obesity</th>\n",
       "      <th>bmi</th>\n",
       "      <th>diabetes</th>\n",
       "      <th>heart_disease</th>\n",
       "      <th>lung_disease</th>\n",
       "      <th>kidney_disease</th>\n",
       "      <th>liver_disease</th>\n",
       "      <th>blood_disease</th>\n",
       "      <th>immunocompromised</th>\n",
       "      <th>asthma</th>\n",
       "    </tr>\n",
       "  </thead>\n",
       "  <tbody>\n",
       "  </tbody>\n",
       "</table>\n",
       "<p>0 rows × 185 columns</p>\n",
       "</div>"
      ],
      "text/plain": [
       "Empty DataFrame\n",
       "Columns: [DT_NOTIFIC, SEM_NOT, DT_SIN_PRI, SEM_PRI, SG_UF_NOT, ID_REGIONA, CO_REGIONA, ID_MUNICIP, CO_MUN_NOT, ID_UNIDADE, CO_UNI_NOT, CS_SEXO, DT_NASC, NU_IDADE_N, TP_IDADE, COD_IDADE, CS_GESTANT, CS_RACA, CS_ESCOL_N, ID_PAIS, CO_PAIS, SG_UF, ID_RG_RESI, CO_RG_RESI, ID_MN_RESI, CO_MUN_RES, CS_ZONA, SURTO_SG, NOSOCOMIAL, AVE_SUINO, FEBRE, TOSSE, GARGANTA, DISPNEIA, DESC_RESP, SATURACAO, DIARREIA, VOMITO, OUTRO_SIN, OUTRO_DES, PUERPERA, FATOR_RISC, CARDIOPATI, HEMATOLOGI, SIND_DOWN, HEPATICA, ASMA, DIABETES, NEUROLOGIC, PNEUMOPATI, IMUNODEPRE, RENAL, OBESIDADE, OBES_IMC, OUT_MORBI, MORB_DESC, VACINA, DT_UT_DOSE, MAE_VAC, DT_VAC_MAE, M_AMAMENTA, DT_DOSEUNI, DT_1_DOSE, DT_2_DOSE, ANTIVIRAL, TP_ANTIVIR, OUT_ANTIV, DT_ANTIVIR, HOSPITAL, DT_INTERNA, SG_UF_INTE, ID_RG_INTE, CO_RG_INTE, ID_MN_INTE, CO_MU_INTE, UTI, DT_ENTUTI, DT_SAIDUTI, SUPORT_VEN, RAIOX_RES, RAIOX_OUT, DT_RAIOX, AMOSTRA, DT_COLETA, TP_AMOSTRA, OUT_AMOST, PCR_RESUL, DT_PCR, POS_PCRFLU, TP_FLU_PCR, PCR_FLUASU, FLUASU_OUT, PCR_FLUBLI, FLUBLI_OUT, POS_PCROUT, PCR_VSR, PCR_PARA1, PCR_PARA2, PCR_PARA3, PCR_PARA4, ...]\n",
       "Index: []\n",
       "\n",
       "[0 rows x 185 columns]"
      ]
     },
     "execution_count": 79,
     "metadata": {},
     "output_type": "execute_result"
    }
   ],
   "source": [
    "# Evaluating if there are pregnant males\n",
    "df[(df['male'] == 1) & df['PUERPERA'] == '1']"
   ]
  },
  {
   "cell_type": "code",
   "execution_count": 80,
   "id": "bebec353",
   "metadata": {},
   "outputs": [
    {
     "data": {
      "text/plain": [
       "0    53870\n",
       "1      489\n",
       "Name: pregnancy, dtype: int64"
      ]
     },
     "execution_count": 80,
     "metadata": {},
     "output_type": "execute_result"
    }
   ],
   "source": [
    "df['pregnancy'] = df['PUERPERA'].apply(lambda x: 1 if x == '1' else 0)\n",
    "df['pregnancy'].value_counts()"
   ]
  },
  {
   "cell_type": "code",
   "execution_count": 81,
   "id": "f0d672e0",
   "metadata": {},
   "outputs": [
    {
     "data": {
      "text/html": [
       "<div>\n",
       "<style scoped>\n",
       "    .dataframe tbody tr th:only-of-type {\n",
       "        vertical-align: middle;\n",
       "    }\n",
       "\n",
       "    .dataframe tbody tr th {\n",
       "        vertical-align: top;\n",
       "    }\n",
       "\n",
       "    .dataframe thead th {\n",
       "        text-align: right;\n",
       "    }\n",
       "</style>\n",
       "<table border=\"1\" class=\"dataframe\">\n",
       "  <thead>\n",
       "    <tr style=\"text-align: right;\">\n",
       "      <th>death</th>\n",
       "      <th>0</th>\n",
       "      <th>1</th>\n",
       "    </tr>\n",
       "    <tr>\n",
       "      <th>pregnancy</th>\n",
       "      <th></th>\n",
       "      <th></th>\n",
       "    </tr>\n",
       "  </thead>\n",
       "  <tbody>\n",
       "    <tr>\n",
       "      <th>0</th>\n",
       "      <td>0.625729</td>\n",
       "      <td>0.374271</td>\n",
       "    </tr>\n",
       "    <tr>\n",
       "      <th>1</th>\n",
       "      <td>0.891616</td>\n",
       "      <td>0.108384</td>\n",
       "    </tr>\n",
       "  </tbody>\n",
       "</table>\n",
       "</div>"
      ],
      "text/plain": [
       "death             0         1\n",
       "pregnancy                    \n",
       "0          0.625729  0.374271\n",
       "1          0.891616  0.108384"
      ]
     },
     "execution_count": 81,
     "metadata": {},
     "output_type": "execute_result"
    }
   ],
   "source": [
    "df.groupby('pregnancy')['death'].value_counts(normalize=True).unstack()"
   ]
  },
  {
   "attachments": {},
   "cell_type": "markdown",
   "id": "9642727b",
   "metadata": {},
   "source": [
    "### Neurological disease"
   ]
  },
  {
   "cell_type": "code",
   "execution_count": 82,
   "id": "67034cbd",
   "metadata": {},
   "outputs": [
    {
     "data": {
      "text/plain": [
       "2    49198\n",
       "1     5031\n",
       "Name: NEUROLOGIC, dtype: int64"
      ]
     },
     "execution_count": 82,
     "metadata": {},
     "output_type": "execute_result"
    }
   ],
   "source": [
    "df = df[(pd.notna(df['NEUROLOGIC'])) &\n",
    "        (df['NEUROLOGIC'] != '9')].copy()\n",
    "df['NEUROLOGIC'].value_counts()"
   ]
  },
  {
   "cell_type": "code",
   "execution_count": 83,
   "id": "57b971ed",
   "metadata": {},
   "outputs": [
    {
     "data": {
      "text/plain": [
       "0    49198\n",
       "1     5031\n",
       "Name: neuro_disease, dtype: int64"
      ]
     },
     "execution_count": 83,
     "metadata": {},
     "output_type": "execute_result"
    }
   ],
   "source": [
    "df['neuro_disease'] = df['NEUROLOGIC'].apply(lambda x: 1 if x == '1' else 0)\n",
    "df['neuro_disease'].value_counts()"
   ]
  },
  {
   "cell_type": "code",
   "execution_count": 84,
   "id": "3e337ddb",
   "metadata": {},
   "outputs": [
    {
     "data": {
      "text/html": [
       "<div>\n",
       "<style scoped>\n",
       "    .dataframe tbody tr th:only-of-type {\n",
       "        vertical-align: middle;\n",
       "    }\n",
       "\n",
       "    .dataframe tbody tr th {\n",
       "        vertical-align: top;\n",
       "    }\n",
       "\n",
       "    .dataframe thead th {\n",
       "        text-align: right;\n",
       "    }\n",
       "</style>\n",
       "<table border=\"1\" class=\"dataframe\">\n",
       "  <thead>\n",
       "    <tr style=\"text-align: right;\">\n",
       "      <th>death</th>\n",
       "      <th>0</th>\n",
       "      <th>1</th>\n",
       "    </tr>\n",
       "    <tr>\n",
       "      <th>neuro_disease</th>\n",
       "      <th></th>\n",
       "      <th></th>\n",
       "    </tr>\n",
       "  </thead>\n",
       "  <tbody>\n",
       "    <tr>\n",
       "      <th>0</th>\n",
       "      <td>0.638847</td>\n",
       "      <td>0.361153</td>\n",
       "    </tr>\n",
       "    <tr>\n",
       "      <th>1</th>\n",
       "      <td>0.522361</td>\n",
       "      <td>0.477639</td>\n",
       "    </tr>\n",
       "  </tbody>\n",
       "</table>\n",
       "</div>"
      ],
      "text/plain": [
       "death                 0         1\n",
       "neuro_disease                    \n",
       "0              0.638847  0.361153\n",
       "1              0.522361  0.477639"
      ]
     },
     "execution_count": 84,
     "metadata": {},
     "output_type": "execute_result"
    }
   ],
   "source": [
    "df.groupby('neuro_disease')['death'].value_counts(normalize=True).unstack()"
   ]
  },
  {
   "cell_type": "markdown",
   "id": "d27a12c3",
   "metadata": {},
   "source": [
    "### Signs and Symptoms:"
   ]
  },
  {
   "cell_type": "markdown",
   "id": "ea257b88",
   "metadata": {},
   "source": [
    "### Fever"
   ]
  },
  {
   "cell_type": "code",
   "execution_count": 85,
   "id": "16f0d8a2",
   "metadata": {},
   "outputs": [
    {
     "data": {
      "text/plain": [
       "2    28091\n",
       "1    25538\n",
       "9      271\n",
       "Name: FEBRE, dtype: int64"
      ]
     },
     "execution_count": 85,
     "metadata": {},
     "output_type": "execute_result"
    }
   ],
   "source": [
    "df['FEBRE'].value_counts()"
   ]
  },
  {
   "cell_type": "code",
   "execution_count": 86,
   "id": "603af2ed",
   "metadata": {},
   "outputs": [
    {
     "name": "stdout",
     "output_type": "stream",
     "text": [
      "<class 'pandas.core.frame.DataFrame'>\n",
      "Int64Index: 53629 entries, 8459 to 2275666\n",
      "Columns: 187 entries, DT_NOTIFIC to neuro_disease\n",
      "dtypes: category(1), datetime64[ns](1), float64(1), int64(14), object(170)\n",
      "memory usage: 76.6+ MB\n"
     ]
    }
   ],
   "source": [
    "# Removing missing values\n",
    "df = df[(pd.notna(df['FEBRE'])) &\n",
    "        (df['FEBRE'] != '9')].copy()\n",
    "df.info()"
   ]
  },
  {
   "cell_type": "code",
   "execution_count": 87,
   "id": "9287c79e",
   "metadata": {},
   "outputs": [
    {
     "data": {
      "text/plain": [
       "0    28091\n",
       "1    25538\n",
       "Name: fever, dtype: int64"
      ]
     },
     "execution_count": 87,
     "metadata": {},
     "output_type": "execute_result"
    }
   ],
   "source": [
    "df['fever'] = df['FEBRE'].apply(lambda x: 1 if x == '1' else 0)\n",
    "df['fever'].value_counts()"
   ]
  },
  {
   "cell_type": "code",
   "execution_count": 88,
   "id": "41093e1a",
   "metadata": {},
   "outputs": [
    {
     "data": {
      "text/html": [
       "<div>\n",
       "<style scoped>\n",
       "    .dataframe tbody tr th:only-of-type {\n",
       "        vertical-align: middle;\n",
       "    }\n",
       "\n",
       "    .dataframe tbody tr th {\n",
       "        vertical-align: top;\n",
       "    }\n",
       "\n",
       "    .dataframe thead th {\n",
       "        text-align: right;\n",
       "    }\n",
       "</style>\n",
       "<table border=\"1\" class=\"dataframe\">\n",
       "  <thead>\n",
       "    <tr style=\"text-align: right;\">\n",
       "      <th>death</th>\n",
       "      <th>0</th>\n",
       "      <th>1</th>\n",
       "    </tr>\n",
       "    <tr>\n",
       "      <th>fever</th>\n",
       "      <th></th>\n",
       "      <th></th>\n",
       "    </tr>\n",
       "  </thead>\n",
       "  <tbody>\n",
       "    <tr>\n",
       "      <th>0</th>\n",
       "      <td>0.612296</td>\n",
       "      <td>0.387704</td>\n",
       "    </tr>\n",
       "    <tr>\n",
       "      <th>1</th>\n",
       "      <td>0.649503</td>\n",
       "      <td>0.350497</td>\n",
       "    </tr>\n",
       "  </tbody>\n",
       "</table>\n",
       "</div>"
      ],
      "text/plain": [
       "death         0         1\n",
       "fever                    \n",
       "0      0.612296  0.387704\n",
       "1      0.649503  0.350497"
      ]
     },
     "execution_count": 88,
     "metadata": {},
     "output_type": "execute_result"
    }
   ],
   "source": [
    "df.groupby('fever')['death'].value_counts(normalize=True).unstack()"
   ]
  },
  {
   "cell_type": "markdown",
   "id": "896b1959",
   "metadata": {},
   "source": [
    "### Cough"
   ]
  },
  {
   "cell_type": "code",
   "execution_count": 89,
   "id": "dbe4bfc8",
   "metadata": {},
   "outputs": [
    {
     "data": {
      "text/plain": [
       "1    37500\n",
       "2    15995\n",
       "9       32\n",
       "Name: TOSSE, dtype: int64"
      ]
     },
     "execution_count": 89,
     "metadata": {},
     "output_type": "execute_result"
    }
   ],
   "source": [
    "df['TOSSE'].value_counts()"
   ]
  },
  {
   "cell_type": "code",
   "execution_count": 90,
   "id": "c283e7d4",
   "metadata": {},
   "outputs": [
    {
     "name": "stdout",
     "output_type": "stream",
     "text": [
      "<class 'pandas.core.frame.DataFrame'>\n",
      "Int64Index: 53495 entries, 8459 to 2275666\n",
      "Columns: 188 entries, DT_NOTIFIC to fever\n",
      "dtypes: category(1), datetime64[ns](1), float64(1), int64(15), object(170)\n",
      "memory usage: 76.8+ MB\n"
     ]
    }
   ],
   "source": [
    "# Removing missing values\n",
    "df = df[(pd.notna(df['TOSSE'])) &\n",
    "        (df['TOSSE'] != '9')].copy()\n",
    "df.info()"
   ]
  },
  {
   "cell_type": "code",
   "execution_count": 91,
   "id": "eefa74b0",
   "metadata": {},
   "outputs": [
    {
     "data": {
      "text/plain": [
       "1    37500\n",
       "0    15995\n",
       "Name: cough, dtype: int64"
      ]
     },
     "execution_count": 91,
     "metadata": {},
     "output_type": "execute_result"
    }
   ],
   "source": [
    "df['cough'] = df['TOSSE'].apply(lambda x: 1 if x == '1' else 0)\n",
    "df['cough'].value_counts()"
   ]
  },
  {
   "cell_type": "code",
   "execution_count": 92,
   "id": "18c499c4",
   "metadata": {},
   "outputs": [
    {
     "data": {
      "text/html": [
       "<div>\n",
       "<style scoped>\n",
       "    .dataframe tbody tr th:only-of-type {\n",
       "        vertical-align: middle;\n",
       "    }\n",
       "\n",
       "    .dataframe tbody tr th {\n",
       "        vertical-align: top;\n",
       "    }\n",
       "\n",
       "    .dataframe thead th {\n",
       "        text-align: right;\n",
       "    }\n",
       "</style>\n",
       "<table border=\"1\" class=\"dataframe\">\n",
       "  <thead>\n",
       "    <tr style=\"text-align: right;\">\n",
       "      <th>death</th>\n",
       "      <th>0</th>\n",
       "      <th>1</th>\n",
       "    </tr>\n",
       "    <tr>\n",
       "      <th>cough</th>\n",
       "      <th></th>\n",
       "      <th></th>\n",
       "    </tr>\n",
       "  </thead>\n",
       "  <tbody>\n",
       "    <tr>\n",
       "      <th>0</th>\n",
       "      <td>0.563989</td>\n",
       "      <td>0.436011</td>\n",
       "    </tr>\n",
       "    <tr>\n",
       "      <th>1</th>\n",
       "      <td>0.658507</td>\n",
       "      <td>0.341493</td>\n",
       "    </tr>\n",
       "  </tbody>\n",
       "</table>\n",
       "</div>"
      ],
      "text/plain": [
       "death         0         1\n",
       "cough                    \n",
       "0      0.563989  0.436011\n",
       "1      0.658507  0.341493"
      ]
     },
     "execution_count": 92,
     "metadata": {},
     "output_type": "execute_result"
    }
   ],
   "source": [
    "df.groupby('cough')['death'].value_counts(normalize=True).unstack()"
   ]
  },
  {
   "cell_type": "markdown",
   "id": "146a93c8",
   "metadata": {},
   "source": [
    "### Sore Throat"
   ]
  },
  {
   "cell_type": "code",
   "execution_count": 93,
   "id": "abd2244a",
   "metadata": {},
   "outputs": [
    {
     "data": {
      "text/plain": [
       "2    43370\n",
       "1     9608\n",
       "9      156\n",
       "Name: GARGANTA, dtype: int64"
      ]
     },
     "execution_count": 93,
     "metadata": {},
     "output_type": "execute_result"
    }
   ],
   "source": [
    "df['GARGANTA'].value_counts()"
   ]
  },
  {
   "cell_type": "code",
   "execution_count": 94,
   "id": "07fe5a19",
   "metadata": {},
   "outputs": [
    {
     "name": "stdout",
     "output_type": "stream",
     "text": [
      "<class 'pandas.core.frame.DataFrame'>\n",
      "Int64Index: 52978 entries, 8459 to 2275666\n",
      "Columns: 189 entries, DT_NOTIFIC to cough\n",
      "dtypes: category(1), datetime64[ns](1), float64(1), int64(16), object(170)\n",
      "memory usage: 76.4+ MB\n"
     ]
    }
   ],
   "source": [
    "# Removing missing values\n",
    "df = df[(pd.notna(df['GARGANTA'])) &\n",
    "        (df['GARGANTA'] != '9')].copy()\n",
    "df.info()"
   ]
  },
  {
   "cell_type": "code",
   "execution_count": 95,
   "id": "9caa692f",
   "metadata": {},
   "outputs": [
    {
     "data": {
      "text/plain": [
       "0    43370\n",
       "1     9608\n",
       "Name: sore_throat, dtype: int64"
      ]
     },
     "execution_count": 95,
     "metadata": {},
     "output_type": "execute_result"
    }
   ],
   "source": [
    "df['sore_throat'] = df['GARGANTA'].apply(lambda x: 1 if x == '1' else 0)\n",
    "df['sore_throat'].value_counts()"
   ]
  },
  {
   "cell_type": "code",
   "execution_count": 96,
   "id": "3c529972",
   "metadata": {},
   "outputs": [
    {
     "data": {
      "text/html": [
       "<div>\n",
       "<style scoped>\n",
       "    .dataframe tbody tr th:only-of-type {\n",
       "        vertical-align: middle;\n",
       "    }\n",
       "\n",
       "    .dataframe tbody tr th {\n",
       "        vertical-align: top;\n",
       "    }\n",
       "\n",
       "    .dataframe thead th {\n",
       "        text-align: right;\n",
       "    }\n",
       "</style>\n",
       "<table border=\"1\" class=\"dataframe\">\n",
       "  <thead>\n",
       "    <tr style=\"text-align: right;\">\n",
       "      <th>death</th>\n",
       "      <th>0</th>\n",
       "      <th>1</th>\n",
       "    </tr>\n",
       "    <tr>\n",
       "      <th>sore_throat</th>\n",
       "      <th></th>\n",
       "      <th></th>\n",
       "    </tr>\n",
       "  </thead>\n",
       "  <tbody>\n",
       "    <tr>\n",
       "      <th>0</th>\n",
       "      <td>0.612082</td>\n",
       "      <td>0.387918</td>\n",
       "    </tr>\n",
       "    <tr>\n",
       "      <th>1</th>\n",
       "      <td>0.718984</td>\n",
       "      <td>0.281016</td>\n",
       "    </tr>\n",
       "  </tbody>\n",
       "</table>\n",
       "</div>"
      ],
      "text/plain": [
       "death               0         1\n",
       "sore_throat                    \n",
       "0            0.612082  0.387918\n",
       "1            0.718984  0.281016"
      ]
     },
     "execution_count": 96,
     "metadata": {},
     "output_type": "execute_result"
    }
   ],
   "source": [
    "df.groupby('sore_throat')['death'].value_counts(normalize=True).unstack()"
   ]
  },
  {
   "cell_type": "markdown",
   "id": "24778301",
   "metadata": {},
   "source": [
    "### Dyspnea"
   ]
  },
  {
   "cell_type": "code",
   "execution_count": 97,
   "id": "4c0dae65",
   "metadata": {},
   "outputs": [
    {
     "data": {
      "text/plain": [
       "1    37880\n",
       "2    15006\n",
       "9       14\n",
       "Name: DISPNEIA, dtype: int64"
      ]
     },
     "execution_count": 97,
     "metadata": {},
     "output_type": "execute_result"
    }
   ],
   "source": [
    "df['DISPNEIA'].value_counts()"
   ]
  },
  {
   "cell_type": "code",
   "execution_count": 98,
   "id": "23bc2172",
   "metadata": {},
   "outputs": [
    {
     "name": "stdout",
     "output_type": "stream",
     "text": [
      "<class 'pandas.core.frame.DataFrame'>\n",
      "Int64Index: 52886 entries, 8459 to 2275666\n",
      "Columns: 190 entries, DT_NOTIFIC to sore_throat\n",
      "dtypes: category(1), datetime64[ns](1), float64(1), int64(17), object(170)\n",
      "memory usage: 76.7+ MB\n"
     ]
    }
   ],
   "source": [
    "# Removing missing values\n",
    "df = df[(pd.notna(df['DISPNEIA'])) &\n",
    "        (df['DISPNEIA'] != '9')].copy()\n",
    "df.info()"
   ]
  },
  {
   "cell_type": "code",
   "execution_count": 99,
   "id": "af5ab027",
   "metadata": {},
   "outputs": [
    {
     "data": {
      "text/plain": [
       "1    37880\n",
       "0    15006\n",
       "Name: dyspnea, dtype: int64"
      ]
     },
     "execution_count": 99,
     "metadata": {},
     "output_type": "execute_result"
    }
   ],
   "source": [
    "df['dyspnea'] = df['DISPNEIA'].apply(lambda x: 1 if x == '1' else 0)\n",
    "df['dyspnea'].value_counts()"
   ]
  },
  {
   "cell_type": "code",
   "execution_count": 100,
   "id": "e51e99f4",
   "metadata": {},
   "outputs": [
    {
     "data": {
      "text/html": [
       "<div>\n",
       "<style scoped>\n",
       "    .dataframe tbody tr th:only-of-type {\n",
       "        vertical-align: middle;\n",
       "    }\n",
       "\n",
       "    .dataframe tbody tr th {\n",
       "        vertical-align: top;\n",
       "    }\n",
       "\n",
       "    .dataframe thead th {\n",
       "        text-align: right;\n",
       "    }\n",
       "</style>\n",
       "<table border=\"1\" class=\"dataframe\">\n",
       "  <thead>\n",
       "    <tr style=\"text-align: right;\">\n",
       "      <th>death</th>\n",
       "      <th>0</th>\n",
       "      <th>1</th>\n",
       "    </tr>\n",
       "    <tr>\n",
       "      <th>dyspnea</th>\n",
       "      <th></th>\n",
       "      <th></th>\n",
       "    </tr>\n",
       "  </thead>\n",
       "  <tbody>\n",
       "    <tr>\n",
       "      <th>0</th>\n",
       "      <td>0.743369</td>\n",
       "      <td>0.256631</td>\n",
       "    </tr>\n",
       "    <tr>\n",
       "      <th>1</th>\n",
       "      <td>0.586880</td>\n",
       "      <td>0.413120</td>\n",
       "    </tr>\n",
       "  </tbody>\n",
       "</table>\n",
       "</div>"
      ],
      "text/plain": [
       "death           0         1\n",
       "dyspnea                    \n",
       "0        0.743369  0.256631\n",
       "1        0.586880  0.413120"
      ]
     },
     "execution_count": 100,
     "metadata": {},
     "output_type": "execute_result"
    }
   ],
   "source": [
    "df.groupby('dyspnea')['death'].value_counts(normalize=True).unstack()"
   ]
  },
  {
   "cell_type": "markdown",
   "id": "ed3a8c26",
   "metadata": {},
   "source": [
    "### Respiratory Discomfort"
   ]
  },
  {
   "cell_type": "code",
   "execution_count": 101,
   "id": "fa651e1e",
   "metadata": {},
   "outputs": [
    {
     "data": {
      "text/plain": [
       "1    30754\n",
       "2    21945\n",
       "9       57\n",
       "Name: DESC_RESP, dtype: int64"
      ]
     },
     "execution_count": 101,
     "metadata": {},
     "output_type": "execute_result"
    }
   ],
   "source": [
    "df['DESC_RESP'].value_counts()"
   ]
  },
  {
   "cell_type": "code",
   "execution_count": 102,
   "id": "b6d48e85",
   "metadata": {},
   "outputs": [
    {
     "name": "stdout",
     "output_type": "stream",
     "text": [
      "<class 'pandas.core.frame.DataFrame'>\n",
      "Int64Index: 52699 entries, 8459 to 2275666\n",
      "Columns: 191 entries, DT_NOTIFIC to dyspnea\n",
      "dtypes: category(1), datetime64[ns](1), float64(1), int64(18), object(170)\n",
      "memory usage: 76.8+ MB\n"
     ]
    }
   ],
   "source": [
    "# Removing missing values\n",
    "df = df[(pd.notna(df['DESC_RESP'])) &\n",
    "        (df['DESC_RESP'] != '9')].copy()\n",
    "df.info()"
   ]
  },
  {
   "cell_type": "code",
   "execution_count": 103,
   "id": "5863cbcc",
   "metadata": {},
   "outputs": [
    {
     "data": {
      "text/plain": [
       "1    30754\n",
       "0    21945\n",
       "Name: resp_discomfort, dtype: int64"
      ]
     },
     "execution_count": 103,
     "metadata": {},
     "output_type": "execute_result"
    }
   ],
   "source": [
    "df['resp_discomfort'] = df['DESC_RESP'].apply(lambda x: 1 if x == '1' else 0)\n",
    "df['resp_discomfort'].value_counts()"
   ]
  },
  {
   "cell_type": "code",
   "execution_count": 104,
   "id": "51de71f6",
   "metadata": {},
   "outputs": [
    {
     "data": {
      "text/html": [
       "<div>\n",
       "<style scoped>\n",
       "    .dataframe tbody tr th:only-of-type {\n",
       "        vertical-align: middle;\n",
       "    }\n",
       "\n",
       "    .dataframe tbody tr th {\n",
       "        vertical-align: top;\n",
       "    }\n",
       "\n",
       "    .dataframe thead th {\n",
       "        text-align: right;\n",
       "    }\n",
       "</style>\n",
       "<table border=\"1\" class=\"dataframe\">\n",
       "  <thead>\n",
       "    <tr style=\"text-align: right;\">\n",
       "      <th>death</th>\n",
       "      <th>0</th>\n",
       "      <th>1</th>\n",
       "    </tr>\n",
       "    <tr>\n",
       "      <th>resp_discomfort</th>\n",
       "      <th></th>\n",
       "      <th></th>\n",
       "    </tr>\n",
       "  </thead>\n",
       "  <tbody>\n",
       "    <tr>\n",
       "      <th>0</th>\n",
       "      <td>0.712326</td>\n",
       "      <td>0.287674</td>\n",
       "    </tr>\n",
       "    <tr>\n",
       "      <th>1</th>\n",
       "      <td>0.573194</td>\n",
       "      <td>0.426806</td>\n",
       "    </tr>\n",
       "  </tbody>\n",
       "</table>\n",
       "</div>"
      ],
      "text/plain": [
       "death                   0         1\n",
       "resp_discomfort                    \n",
       "0                0.712326  0.287674\n",
       "1                0.573194  0.426806"
      ]
     },
     "execution_count": 104,
     "metadata": {},
     "output_type": "execute_result"
    }
   ],
   "source": [
    "df.groupby('resp_discomfort')['death'].value_counts(normalize=True).unstack()"
   ]
  },
  {
   "cell_type": "markdown",
   "id": "52b3a8f6",
   "metadata": {},
   "source": [
    "### Oxygen Saturation"
   ]
  },
  {
   "cell_type": "code",
   "execution_count": 105,
   "id": "a908c886",
   "metadata": {
    "scrolled": false
   },
   "outputs": [
    {
     "data": {
      "text/plain": [
       "1    37392\n",
       "2    15089\n",
       "9       90\n",
       "Name: SATURACAO, dtype: int64"
      ]
     },
     "execution_count": 105,
     "metadata": {},
     "output_type": "execute_result"
    }
   ],
   "source": [
    "df['SATURACAO'].value_counts()"
   ]
  },
  {
   "cell_type": "code",
   "execution_count": 106,
   "id": "e4cc60c0",
   "metadata": {
    "scrolled": true
   },
   "outputs": [
    {
     "name": "stdout",
     "output_type": "stream",
     "text": [
      "<class 'pandas.core.frame.DataFrame'>\n",
      "Int64Index: 52481 entries, 8459 to 2275666\n",
      "Columns: 192 entries, DT_NOTIFIC to resp_discomfort\n",
      "dtypes: category(1), datetime64[ns](1), float64(1), int64(19), object(170)\n",
      "memory usage: 76.9+ MB\n"
     ]
    }
   ],
   "source": [
    "# Removing missing values\n",
    "df = df[(pd.notna(df['SATURACAO'])) &\n",
    "        (df['SATURACAO'] != '9')].copy()\n",
    "df.info()"
   ]
  },
  {
   "cell_type": "code",
   "execution_count": 107,
   "id": "ddfd2ae5",
   "metadata": {},
   "outputs": [
    {
     "data": {
      "text/plain": [
       "1    37392\n",
       "0    15089\n",
       "Name: oxygen_saturation, dtype: int64"
      ]
     },
     "execution_count": 107,
     "metadata": {},
     "output_type": "execute_result"
    }
   ],
   "source": [
    "df['oxygen_saturation'] = df['SATURACAO'].apply(lambda x: 1 if x == '1' else 0)\n",
    "df['oxygen_saturation'].value_counts()"
   ]
  },
  {
   "cell_type": "code",
   "execution_count": 108,
   "id": "bbf6f587",
   "metadata": {
    "scrolled": true
   },
   "outputs": [
    {
     "data": {
      "text/html": [
       "<div>\n",
       "<style scoped>\n",
       "    .dataframe tbody tr th:only-of-type {\n",
       "        vertical-align: middle;\n",
       "    }\n",
       "\n",
       "    .dataframe tbody tr th {\n",
       "        vertical-align: top;\n",
       "    }\n",
       "\n",
       "    .dataframe thead th {\n",
       "        text-align: right;\n",
       "    }\n",
       "</style>\n",
       "<table border=\"1\" class=\"dataframe\">\n",
       "  <thead>\n",
       "    <tr style=\"text-align: right;\">\n",
       "      <th>death</th>\n",
       "      <th>0</th>\n",
       "      <th>1</th>\n",
       "    </tr>\n",
       "    <tr>\n",
       "      <th>oxygen_saturation</th>\n",
       "      <th></th>\n",
       "      <th></th>\n",
       "    </tr>\n",
       "  </thead>\n",
       "  <tbody>\n",
       "    <tr>\n",
       "      <th>0</th>\n",
       "      <td>0.759427</td>\n",
       "      <td>0.240573</td>\n",
       "    </tr>\n",
       "    <tr>\n",
       "      <th>1</th>\n",
       "      <td>0.579242</td>\n",
       "      <td>0.420758</td>\n",
       "    </tr>\n",
       "  </tbody>\n",
       "</table>\n",
       "</div>"
      ],
      "text/plain": [
       "death                     0         1\n",
       "oxygen_saturation                    \n",
       "0                  0.759427  0.240573\n",
       "1                  0.579242  0.420758"
      ]
     },
     "execution_count": 108,
     "metadata": {},
     "output_type": "execute_result"
    }
   ],
   "source": [
    "df.groupby('oxygen_saturation')['death'].value_counts(normalize=True).unstack()"
   ]
  },
  {
   "cell_type": "markdown",
   "id": "74f033c4",
   "metadata": {},
   "source": [
    "### Diarrhea"
   ]
  },
  {
   "cell_type": "code",
   "execution_count": 109,
   "id": "d2ff010e",
   "metadata": {
    "scrolled": false
   },
   "outputs": [
    {
     "data": {
      "text/plain": [
       "2    45904\n",
       "1     6384\n",
       "9       43\n",
       "Name: DIARREIA, dtype: int64"
      ]
     },
     "execution_count": 109,
     "metadata": {},
     "output_type": "execute_result"
    }
   ],
   "source": [
    "df['DIARREIA'].value_counts()"
   ]
  },
  {
   "cell_type": "code",
   "execution_count": 110,
   "id": "2b4423e3",
   "metadata": {
    "scrolled": true
   },
   "outputs": [
    {
     "name": "stdout",
     "output_type": "stream",
     "text": [
      "<class 'pandas.core.frame.DataFrame'>\n",
      "Int64Index: 52288 entries, 8459 to 2275666\n",
      "Columns: 193 entries, DT_NOTIFIC to oxygen_saturation\n",
      "dtypes: category(1), datetime64[ns](1), float64(1), int64(20), object(170)\n",
      "memory usage: 77.0+ MB\n"
     ]
    }
   ],
   "source": [
    "# Removing missing values\n",
    "df = df[(pd.notna(df['DIARREIA'])) &\n",
    "        (df['DIARREIA'] != '9')].copy()\n",
    "df.info()"
   ]
  },
  {
   "cell_type": "code",
   "execution_count": 111,
   "id": "9a179e43",
   "metadata": {
    "scrolled": true
   },
   "outputs": [
    {
     "data": {
      "text/plain": [
       "0    45904\n",
       "1     6384\n",
       "Name: diarrhea, dtype: int64"
      ]
     },
     "execution_count": 111,
     "metadata": {},
     "output_type": "execute_result"
    }
   ],
   "source": [
    "df['diarrhea'] = df['DIARREIA'].apply(lambda x: 1 if x == '1' else 0)\n",
    "df['diarrhea'].value_counts()"
   ]
  },
  {
   "cell_type": "code",
   "execution_count": 112,
   "id": "04cc1c12",
   "metadata": {
    "scrolled": true
   },
   "outputs": [
    {
     "data": {
      "text/html": [
       "<div>\n",
       "<style scoped>\n",
       "    .dataframe tbody tr th:only-of-type {\n",
       "        vertical-align: middle;\n",
       "    }\n",
       "\n",
       "    .dataframe tbody tr th {\n",
       "        vertical-align: top;\n",
       "    }\n",
       "\n",
       "    .dataframe thead th {\n",
       "        text-align: right;\n",
       "    }\n",
       "</style>\n",
       "<table border=\"1\" class=\"dataframe\">\n",
       "  <thead>\n",
       "    <tr style=\"text-align: right;\">\n",
       "      <th>death</th>\n",
       "      <th>0</th>\n",
       "      <th>1</th>\n",
       "    </tr>\n",
       "    <tr>\n",
       "      <th>diarrhea</th>\n",
       "      <th></th>\n",
       "      <th></th>\n",
       "    </tr>\n",
       "  </thead>\n",
       "  <tbody>\n",
       "    <tr>\n",
       "      <th>0</th>\n",
       "      <td>0.627658</td>\n",
       "      <td>0.372342</td>\n",
       "    </tr>\n",
       "    <tr>\n",
       "      <th>1</th>\n",
       "      <td>0.657268</td>\n",
       "      <td>0.342732</td>\n",
       "    </tr>\n",
       "  </tbody>\n",
       "</table>\n",
       "</div>"
      ],
      "text/plain": [
       "death            0         1\n",
       "diarrhea                    \n",
       "0         0.627658  0.372342\n",
       "1         0.657268  0.342732"
      ]
     },
     "execution_count": 112,
     "metadata": {},
     "output_type": "execute_result"
    }
   ],
   "source": [
    "df.groupby('diarrhea')['death'].value_counts(normalize=True).unstack()"
   ]
  },
  {
   "cell_type": "markdown",
   "id": "1b93a2fc",
   "metadata": {},
   "source": [
    "### Vomiting"
   ]
  },
  {
   "cell_type": "code",
   "execution_count": 113,
   "id": "d4ddbb5c",
   "metadata": {
    "scrolled": true
   },
   "outputs": [
    {
     "data": {
      "text/plain": [
       "2    47140\n",
       "1     4968\n",
       "9       25\n",
       "Name: VOMITO, dtype: int64"
      ]
     },
     "execution_count": 113,
     "metadata": {},
     "output_type": "execute_result"
    }
   ],
   "source": [
    "df['VOMITO'].value_counts()"
   ]
  },
  {
   "cell_type": "code",
   "execution_count": 114,
   "id": "7d8e0434",
   "metadata": {
    "scrolled": false
   },
   "outputs": [
    {
     "name": "stdout",
     "output_type": "stream",
     "text": [
      "<class 'pandas.core.frame.DataFrame'>\n",
      "Int64Index: 52108 entries, 8459 to 2275666\n",
      "Columns: 194 entries, DT_NOTIFIC to diarrhea\n",
      "dtypes: category(1), datetime64[ns](1), float64(1), int64(21), object(170)\n",
      "memory usage: 77.2+ MB\n"
     ]
    }
   ],
   "source": [
    "# Removing missing values\n",
    "df = df[(pd.notna(df['VOMITO'])) &\n",
    "        (df['VOMITO'] != '9')].copy()\n",
    "df.info()"
   ]
  },
  {
   "cell_type": "code",
   "execution_count": 115,
   "id": "1005edfb",
   "metadata": {
    "scrolled": true
   },
   "outputs": [
    {
     "data": {
      "text/plain": [
       "0    47140\n",
       "1     4968\n",
       "Name: vomiting, dtype: int64"
      ]
     },
     "execution_count": 115,
     "metadata": {},
     "output_type": "execute_result"
    }
   ],
   "source": [
    "df['vomiting'] = df['VOMITO'].apply(lambda x: 1 if x == '1' else 0)\n",
    "df['vomiting'].value_counts()"
   ]
  },
  {
   "cell_type": "code",
   "execution_count": 116,
   "id": "6600ccc4",
   "metadata": {
    "scrolled": false
   },
   "outputs": [
    {
     "data": {
      "text/html": [
       "<div>\n",
       "<style scoped>\n",
       "    .dataframe tbody tr th:only-of-type {\n",
       "        vertical-align: middle;\n",
       "    }\n",
       "\n",
       "    .dataframe tbody tr th {\n",
       "        vertical-align: top;\n",
       "    }\n",
       "\n",
       "    .dataframe thead th {\n",
       "        text-align: right;\n",
       "    }\n",
       "</style>\n",
       "<table border=\"1\" class=\"dataframe\">\n",
       "  <thead>\n",
       "    <tr style=\"text-align: right;\">\n",
       "      <th>death</th>\n",
       "      <th>0</th>\n",
       "      <th>1</th>\n",
       "    </tr>\n",
       "    <tr>\n",
       "      <th>vomiting</th>\n",
       "      <th></th>\n",
       "      <th></th>\n",
       "    </tr>\n",
       "  </thead>\n",
       "  <tbody>\n",
       "    <tr>\n",
       "      <th>0</th>\n",
       "      <td>0.627132</td>\n",
       "      <td>0.372868</td>\n",
       "    </tr>\n",
       "    <tr>\n",
       "      <th>1</th>\n",
       "      <td>0.672101</td>\n",
       "      <td>0.327899</td>\n",
       "    </tr>\n",
       "  </tbody>\n",
       "</table>\n",
       "</div>"
      ],
      "text/plain": [
       "death            0         1\n",
       "vomiting                    \n",
       "0         0.627132  0.372868\n",
       "1         0.672101  0.327899"
      ]
     },
     "execution_count": 116,
     "metadata": {},
     "output_type": "execute_result"
    }
   ],
   "source": [
    "df.groupby('vomiting')['death'].value_counts(normalize=True).unstack()"
   ]
  },
  {
   "cell_type": "markdown",
   "id": "6a6fa736",
   "metadata": {},
   "source": [
    "### Abdominal Pain"
   ]
  },
  {
   "cell_type": "code",
   "execution_count": 117,
   "id": "17ae195b",
   "metadata": {
    "scrolled": false
   },
   "outputs": [
    {
     "data": {
      "text/plain": [
       "2    47728\n",
       "1     4216\n",
       "9       70\n",
       "Name: DOR_ABD, dtype: int64"
      ]
     },
     "execution_count": 117,
     "metadata": {},
     "output_type": "execute_result"
    }
   ],
   "source": [
    "df['DOR_ABD'].value_counts()"
   ]
  },
  {
   "cell_type": "code",
   "execution_count": 118,
   "id": "b511890b",
   "metadata": {
    "scrolled": false
   },
   "outputs": [
    {
     "name": "stdout",
     "output_type": "stream",
     "text": [
      "<class 'pandas.core.frame.DataFrame'>\n",
      "Int64Index: 51944 entries, 8459 to 2275666\n",
      "Columns: 195 entries, DT_NOTIFIC to vomiting\n",
      "dtypes: category(1), datetime64[ns](1), float64(1), int64(22), object(170)\n",
      "memory usage: 77.3+ MB\n"
     ]
    }
   ],
   "source": [
    "# Removing missing values\n",
    "df = df[(pd.notna(df['DOR_ABD'])) &\n",
    "        (df['DOR_ABD'] != '9')].copy()\n",
    "df.info()"
   ]
  },
  {
   "cell_type": "code",
   "execution_count": 119,
   "id": "c9c394fe",
   "metadata": {
    "scrolled": true
   },
   "outputs": [
    {
     "data": {
      "text/plain": [
       "0    47728\n",
       "1     4216\n",
       "Name: abd_pain, dtype: int64"
      ]
     },
     "execution_count": 119,
     "metadata": {},
     "output_type": "execute_result"
    }
   ],
   "source": [
    "df['abd_pain'] = df['DOR_ABD'].apply(lambda x: 1 if x == '1' else 0)\n",
    "df['abd_pain'].value_counts()"
   ]
  },
  {
   "cell_type": "code",
   "execution_count": 120,
   "id": "b0d5b6b2",
   "metadata": {
    "scrolled": false
   },
   "outputs": [
    {
     "data": {
      "text/html": [
       "<div>\n",
       "<style scoped>\n",
       "    .dataframe tbody tr th:only-of-type {\n",
       "        vertical-align: middle;\n",
       "    }\n",
       "\n",
       "    .dataframe tbody tr th {\n",
       "        vertical-align: top;\n",
       "    }\n",
       "\n",
       "    .dataframe thead th {\n",
       "        text-align: right;\n",
       "    }\n",
       "</style>\n",
       "<table border=\"1\" class=\"dataframe\">\n",
       "  <thead>\n",
       "    <tr style=\"text-align: right;\">\n",
       "      <th>death</th>\n",
       "      <th>0</th>\n",
       "      <th>1</th>\n",
       "    </tr>\n",
       "    <tr>\n",
       "      <th>abd_pain</th>\n",
       "      <th></th>\n",
       "      <th></th>\n",
       "    </tr>\n",
       "  </thead>\n",
       "  <tbody>\n",
       "    <tr>\n",
       "      <th>0</th>\n",
       "      <td>0.628310</td>\n",
       "      <td>0.371690</td>\n",
       "    </tr>\n",
       "    <tr>\n",
       "      <th>1</th>\n",
       "      <td>0.669829</td>\n",
       "      <td>0.330171</td>\n",
       "    </tr>\n",
       "  </tbody>\n",
       "</table>\n",
       "</div>"
      ],
      "text/plain": [
       "death            0         1\n",
       "abd_pain                    \n",
       "0         0.628310  0.371690\n",
       "1         0.669829  0.330171"
      ]
     },
     "execution_count": 120,
     "metadata": {},
     "output_type": "execute_result"
    }
   ],
   "source": [
    "df.groupby('abd_pain')['death'].value_counts(normalize=True).unstack()"
   ]
  },
  {
   "cell_type": "markdown",
   "id": "b10cd14e",
   "metadata": {},
   "source": [
    "### Fatigue"
   ]
  },
  {
   "cell_type": "code",
   "execution_count": 121,
   "id": "85ccfb26",
   "metadata": {
    "scrolled": false
   },
   "outputs": [
    {
     "data": {
      "text/plain": [
       "2    35350\n",
       "1    16470\n",
       "9       40\n",
       "Name: FADIGA, dtype: int64"
      ]
     },
     "execution_count": 121,
     "metadata": {},
     "output_type": "execute_result"
    }
   ],
   "source": [
    "df['FADIGA'].value_counts()"
   ]
  },
  {
   "cell_type": "code",
   "execution_count": 122,
   "id": "979ad27c",
   "metadata": {
    "scrolled": true
   },
   "outputs": [
    {
     "name": "stdout",
     "output_type": "stream",
     "text": [
      "<class 'pandas.core.frame.DataFrame'>\n",
      "Int64Index: 51820 entries, 8459 to 2275666\n",
      "Columns: 196 entries, DT_NOTIFIC to abd_pain\n",
      "dtypes: category(1), datetime64[ns](1), float64(1), int64(23), object(170)\n",
      "memory usage: 77.5+ MB\n"
     ]
    }
   ],
   "source": [
    "# Removing missing values\n",
    "df = df[(pd.notna(df['FADIGA'])) &\n",
    "        (df['FADIGA'] != '9')].copy()\n",
    "df.info()"
   ]
  },
  {
   "cell_type": "code",
   "execution_count": 123,
   "id": "f95c0222",
   "metadata": {
    "scrolled": false
   },
   "outputs": [
    {
     "data": {
      "text/plain": [
       "0    35350\n",
       "1    16470\n",
       "Name: fatigue, dtype: int64"
      ]
     },
     "execution_count": 123,
     "metadata": {},
     "output_type": "execute_result"
    }
   ],
   "source": [
    "df['fatigue'] = df['FADIGA'].apply(lambda x: 1 if x == '1' else 0)\n",
    "df['fatigue'].value_counts()"
   ]
  },
  {
   "cell_type": "code",
   "execution_count": 124,
   "id": "42edbc34",
   "metadata": {
    "scrolled": true
   },
   "outputs": [
    {
     "data": {
      "text/html": [
       "<div>\n",
       "<style scoped>\n",
       "    .dataframe tbody tr th:only-of-type {\n",
       "        vertical-align: middle;\n",
       "    }\n",
       "\n",
       "    .dataframe tbody tr th {\n",
       "        vertical-align: top;\n",
       "    }\n",
       "\n",
       "    .dataframe thead th {\n",
       "        text-align: right;\n",
       "    }\n",
       "</style>\n",
       "<table border=\"1\" class=\"dataframe\">\n",
       "  <thead>\n",
       "    <tr style=\"text-align: right;\">\n",
       "      <th>death</th>\n",
       "      <th>0</th>\n",
       "      <th>1</th>\n",
       "    </tr>\n",
       "    <tr>\n",
       "      <th>fatigue</th>\n",
       "      <th></th>\n",
       "      <th></th>\n",
       "    </tr>\n",
       "  </thead>\n",
       "  <tbody>\n",
       "    <tr>\n",
       "      <th>0</th>\n",
       "      <td>0.626987</td>\n",
       "      <td>0.373013</td>\n",
       "    </tr>\n",
       "    <tr>\n",
       "      <th>1</th>\n",
       "      <td>0.641348</td>\n",
       "      <td>0.358652</td>\n",
       "    </tr>\n",
       "  </tbody>\n",
       "</table>\n",
       "</div>"
      ],
      "text/plain": [
       "death           0         1\n",
       "fatigue                    \n",
       "0        0.626987  0.373013\n",
       "1        0.641348  0.358652"
      ]
     },
     "execution_count": 124,
     "metadata": {},
     "output_type": "execute_result"
    }
   ],
   "source": [
    "df.groupby('fatigue')['death'].value_counts(normalize=True).unstack()"
   ]
  },
  {
   "cell_type": "markdown",
   "id": "db9087ea",
   "metadata": {},
   "source": [
    "### Loss of Smell"
   ]
  },
  {
   "cell_type": "code",
   "execution_count": 125,
   "id": "a17eec81",
   "metadata": {
    "scrolled": true
   },
   "outputs": [
    {
     "data": {
      "text/plain": [
       "2    47895\n",
       "1     3750\n",
       "9      107\n",
       "Name: PERD_OLFT, dtype: int64"
      ]
     },
     "execution_count": 125,
     "metadata": {},
     "output_type": "execute_result"
    }
   ],
   "source": [
    "df['PERD_OLFT'].value_counts()"
   ]
  },
  {
   "cell_type": "code",
   "execution_count": 126,
   "id": "608cf375",
   "metadata": {
    "scrolled": true
   },
   "outputs": [
    {
     "name": "stdout",
     "output_type": "stream",
     "text": [
      "<class 'pandas.core.frame.DataFrame'>\n",
      "Int64Index: 51645 entries, 8459 to 2275666\n",
      "Columns: 197 entries, DT_NOTIFIC to fatigue\n",
      "dtypes: category(1), datetime64[ns](1), float64(1), int64(24), object(170)\n",
      "memory usage: 77.7+ MB\n"
     ]
    }
   ],
   "source": [
    "# Removing missing values\n",
    "df = df[(pd.notna(df['PERD_OLFT'])) &\n",
    "        (df['PERD_OLFT'] != '9')].copy()\n",
    "df.info()"
   ]
  },
  {
   "cell_type": "code",
   "execution_count": 127,
   "id": "70c6d63a",
   "metadata": {
    "scrolled": false
   },
   "outputs": [
    {
     "data": {
      "text/plain": [
       "0    47895\n",
       "1     3750\n",
       "Name: loss_smell, dtype: int64"
      ]
     },
     "execution_count": 127,
     "metadata": {},
     "output_type": "execute_result"
    }
   ],
   "source": [
    "df['loss_smell'] = df['PERD_OLFT'].apply(lambda x: 1 if x == '1' else 0)\n",
    "df['loss_smell'].value_counts()"
   ]
  },
  {
   "cell_type": "code",
   "execution_count": 128,
   "id": "0cc32615",
   "metadata": {
    "scrolled": false
   },
   "outputs": [
    {
     "data": {
      "text/html": [
       "<div>\n",
       "<style scoped>\n",
       "    .dataframe tbody tr th:only-of-type {\n",
       "        vertical-align: middle;\n",
       "    }\n",
       "\n",
       "    .dataframe tbody tr th {\n",
       "        vertical-align: top;\n",
       "    }\n",
       "\n",
       "    .dataframe thead th {\n",
       "        text-align: right;\n",
       "    }\n",
       "</style>\n",
       "<table border=\"1\" class=\"dataframe\">\n",
       "  <thead>\n",
       "    <tr style=\"text-align: right;\">\n",
       "      <th>death</th>\n",
       "      <th>0</th>\n",
       "      <th>1</th>\n",
       "    </tr>\n",
       "    <tr>\n",
       "      <th>loss_smell</th>\n",
       "      <th></th>\n",
       "      <th></th>\n",
       "    </tr>\n",
       "  </thead>\n",
       "  <tbody>\n",
       "    <tr>\n",
       "      <th>0</th>\n",
       "      <td>0.623656</td>\n",
       "      <td>0.376344</td>\n",
       "    </tr>\n",
       "    <tr>\n",
       "      <th>1</th>\n",
       "      <td>0.736000</td>\n",
       "      <td>0.264000</td>\n",
       "    </tr>\n",
       "  </tbody>\n",
       "</table>\n",
       "</div>"
      ],
      "text/plain": [
       "death              0         1\n",
       "loss_smell                    \n",
       "0           0.623656  0.376344\n",
       "1           0.736000  0.264000"
      ]
     },
     "execution_count": 128,
     "metadata": {},
     "output_type": "execute_result"
    }
   ],
   "source": [
    "df.groupby('loss_smell')['death'].value_counts(normalize=True).unstack()"
   ]
  },
  {
   "cell_type": "markdown",
   "id": "e6a31caa",
   "metadata": {},
   "source": [
    "### Loss of Taste"
   ]
  },
  {
   "cell_type": "code",
   "execution_count": 129,
   "id": "2a05dc56",
   "metadata": {},
   "outputs": [
    {
     "data": {
      "text/plain": [
       "2    47527\n",
       "1     3989\n",
       "9       49\n",
       "Name: PERD_PALA, dtype: int64"
      ]
     },
     "execution_count": 129,
     "metadata": {},
     "output_type": "execute_result"
    }
   ],
   "source": [
    "df['PERD_PALA'].value_counts()"
   ]
  },
  {
   "cell_type": "code",
   "execution_count": 130,
   "id": "95c40f6c",
   "metadata": {},
   "outputs": [
    {
     "name": "stdout",
     "output_type": "stream",
     "text": [
      "<class 'pandas.core.frame.DataFrame'>\n",
      "Int64Index: 51516 entries, 8459 to 2275666\n",
      "Columns: 198 entries, DT_NOTIFIC to loss_smell\n",
      "dtypes: category(1), datetime64[ns](1), float64(1), int64(25), object(170)\n",
      "memory usage: 77.9+ MB\n"
     ]
    }
   ],
   "source": [
    "# Removing missing values\n",
    "df = df[(pd.notna(df['PERD_PALA'])) &\n",
    "        (df['PERD_PALA'] != '9')].copy()\n",
    "df.info()"
   ]
  },
  {
   "cell_type": "code",
   "execution_count": 131,
   "id": "193664e7",
   "metadata": {},
   "outputs": [
    {
     "data": {
      "text/plain": [
       "0    47527\n",
       "1     3989\n",
       "Name: loss_taste, dtype: int64"
      ]
     },
     "execution_count": 131,
     "metadata": {},
     "output_type": "execute_result"
    }
   ],
   "source": [
    "df['loss_taste'] = df['PERD_PALA'].apply(lambda x: 1 if x == '1' else 0)\n",
    "df['loss_taste'].value_counts()"
   ]
  },
  {
   "cell_type": "code",
   "execution_count": 132,
   "id": "23555f14",
   "metadata": {},
   "outputs": [
    {
     "data": {
      "text/html": [
       "<div>\n",
       "<style scoped>\n",
       "    .dataframe tbody tr th:only-of-type {\n",
       "        vertical-align: middle;\n",
       "    }\n",
       "\n",
       "    .dataframe tbody tr th {\n",
       "        vertical-align: top;\n",
       "    }\n",
       "\n",
       "    .dataframe thead th {\n",
       "        text-align: right;\n",
       "    }\n",
       "</style>\n",
       "<table border=\"1\" class=\"dataframe\">\n",
       "  <thead>\n",
       "    <tr style=\"text-align: right;\">\n",
       "      <th>death</th>\n",
       "      <th>0</th>\n",
       "      <th>1</th>\n",
       "    </tr>\n",
       "    <tr>\n",
       "      <th>loss_taste</th>\n",
       "      <th></th>\n",
       "      <th></th>\n",
       "    </tr>\n",
       "  </thead>\n",
       "  <tbody>\n",
       "    <tr>\n",
       "      <th>0</th>\n",
       "      <td>0.622046</td>\n",
       "      <td>0.377954</td>\n",
       "    </tr>\n",
       "    <tr>\n",
       "      <th>1</th>\n",
       "      <td>0.747054</td>\n",
       "      <td>0.252946</td>\n",
       "    </tr>\n",
       "  </tbody>\n",
       "</table>\n",
       "</div>"
      ],
      "text/plain": [
       "death              0         1\n",
       "loss_taste                    \n",
       "0           0.622046  0.377954\n",
       "1           0.747054  0.252946"
      ]
     },
     "execution_count": 132,
     "metadata": {},
     "output_type": "execute_result"
    }
   ],
   "source": [
    "df.groupby('loss_taste')['death'].value_counts(normalize=True).unstack()"
   ]
  },
  {
   "cell_type": "markdown",
   "id": "8436cf5a",
   "metadata": {},
   "source": [
    "### Other Symptoms"
   ]
  },
  {
   "cell_type": "code",
   "execution_count": 133,
   "id": "4c56b37b",
   "metadata": {},
   "outputs": [
    {
     "data": {
      "text/plain": [
       "CEFALEIA                 1088\n",
       "MIALGIA                  1074\n",
       "CORIZA                   1014\n",
       "INAPETENCIA               519\n",
       "ASTENIA                   496\n",
       "DOR TORACICA              337\n",
       "FRAQUEZA                  264\n",
       "PROSTRACAO                192\n",
       "CONFUSAO MENTAL           155\n",
       "CEFALEIA, MIALGIA         138\n",
       "MAL ESTAR                 137\n",
       "ASSINTOMATICO             124\n",
       "NAUSEAS                   120\n",
       "CANSACO                   112\n",
       "QUEDA DO ESTADO GERAL     110\n",
       "ASSINTOMATICA             107\n",
       "MIALGIA, CEFALEIA          97\n",
       "PROSTACAO                  95\n",
       "DOR NO CORPO               88\n",
       "CEFALEIA E MIALGIA         72\n",
       "Name: OUTRO_DES, dtype: int64"
      ]
     },
     "execution_count": 133,
     "metadata": {},
     "output_type": "execute_result"
    }
   ],
   "source": [
    "df['OUTRO_DES'].value_counts().head(20)"
   ]
  },
  {
   "attachments": {},
   "cell_type": "markdown",
   "id": "4dfb1f7c",
   "metadata": {},
   "source": [
    "### Total death"
   ]
  },
  {
   "cell_type": "code",
   "execution_count": 134,
   "id": "e8897c6d",
   "metadata": {},
   "outputs": [
    {
     "data": {
      "text/plain": [
       "0    32544\n",
       "1    18972\n",
       "Name: death, dtype: int64"
      ]
     },
     "execution_count": 134,
     "metadata": {},
     "output_type": "execute_result"
    }
   ],
   "source": [
    "df['death'].value_counts()"
   ]
  },
  {
   "attachments": {},
   "cell_type": "markdown",
   "id": "cfed2854",
   "metadata": {},
   "source": [
    "## Final Dataset"
   ]
  },
  {
   "cell_type": "code",
   "execution_count": 162,
   "id": "8088cb9f",
   "metadata": {},
   "outputs": [
    {
     "name": "stdout",
     "output_type": "stream",
     "text": [
      "<class 'pandas.core.frame.DataFrame'>\n",
      "RangeIndex: 51516 entries, 0 to 51515\n",
      "Data columns (total 27 columns):\n",
      " #   Column             Non-Null Count  Dtype   \n",
      "---  ------             --------------  -----   \n",
      " 0   age                51516 non-null  int64   \n",
      " 1   male               51516 non-null  int64   \n",
      " 2   race               51516 non-null  object  \n",
      " 3   education          51516 non-null  category\n",
      " 4   diabetes           51516 non-null  int64   \n",
      " 5   obesity            51516 non-null  int64   \n",
      " 6   lung_disease       51516 non-null  int64   \n",
      " 7   liver_disease      51516 non-null  int64   \n",
      " 8   heart_disease      51516 non-null  int64   \n",
      " 9   kidney_disease     51516 non-null  int64   \n",
      " 10  asthma             51516 non-null  int64   \n",
      " 11  blood_disease      51516 non-null  int64   \n",
      " 12  pregnancy          51516 non-null  int64   \n",
      " 13  neuro_disease      51516 non-null  int64   \n",
      " 14  fever              51516 non-null  int64   \n",
      " 15  cough              51516 non-null  int64   \n",
      " 16  sore_throat        51516 non-null  int64   \n",
      " 17  dyspnea            51516 non-null  int64   \n",
      " 18  resp_discomfort    51516 non-null  int64   \n",
      " 19  oxygen_saturation  51516 non-null  int64   \n",
      " 20  diarrhea           51516 non-null  int64   \n",
      " 21  vomiting           51516 non-null  int64   \n",
      " 22  abd_pain           51516 non-null  int64   \n",
      " 23  fatigue            51516 non-null  int64   \n",
      " 24  loss_smell         51516 non-null  int64   \n",
      " 25  loss_taste         51516 non-null  int64   \n",
      " 26  death              51516 non-null  int64   \n",
      "dtypes: category(1), int64(25), object(1)\n",
      "memory usage: 10.3+ MB\n"
     ]
    }
   ],
   "source": [
    "# Variables\n",
    "demographics = ['age', 'male', 'race', 'education']\n",
    "comorbidities = ['diabetes', 'obesity', 'lung_disease', \n",
    "                 'liver_disease', 'heart_disease', 'kidney_disease', \n",
    "                 'asthma', 'blood_disease', 'pregnancy', 'neuro_disease']\n",
    "signs_symptoms = ['fever', 'cough', 'sore_throat', 'dyspnea', \n",
    "                  'resp_discomfort', 'oxygen_saturation', \n",
    "                  'diarrhea', 'vomiting', 'abd_pain', \n",
    "                  'fatigue', 'loss_smell', 'loss_taste']\n",
    "variables = demographics + comorbidities + signs_symptoms + ['death']\n",
    "\n",
    "# Selecting variables\n",
    "df.index = pd.RangeIndex(start=0, stop=len(df.index))\n",
    "df = df[variables].copy()\n",
    "df.info()"
   ]
  },
  {
   "attachments": {},
   "cell_type": "markdown",
   "id": "cefd6b64",
   "metadata": {},
   "source": [
    "# Statistics\n",
    "___"
   ]
  },
  {
   "cell_type": "code",
   "execution_count": 136,
   "id": "377446bc",
   "metadata": {},
   "outputs": [],
   "source": [
    "from scipy.stats.contingency import odds_ratio\n",
    "from scipy.stats import fisher_exact"
   ]
  },
  {
   "cell_type": "code",
   "execution_count": 137,
   "id": "e0355714",
   "metadata": {},
   "outputs": [
    {
     "data": {
      "text/plain": [
       "51516"
      ]
     },
     "execution_count": 137,
     "metadata": {},
     "output_type": "execute_result"
    }
   ],
   "source": [
    "# Dataset size\n",
    "n = len(df)\n",
    "n"
   ]
  },
  {
   "attachments": {},
   "cell_type": "markdown",
   "id": "55b085e0",
   "metadata": {},
   "source": [
    "## Demographics"
   ]
  },
  {
   "attachments": {},
   "cell_type": "markdown",
   "id": "6e62c422",
   "metadata": {},
   "source": [
    "### Age"
   ]
  },
  {
   "cell_type": "code",
   "execution_count": 194,
   "id": "632be3b4",
   "metadata": {},
   "outputs": [],
   "source": [
    "sns.set(rc={\"figure.figsize\":(8, 4)})\n",
    "sns.set_context('paper')\n",
    "custom_params = {'axes.spines.right': False, \n",
    "                 'axes.spines.top': False, \n",
    "                 'axes.linewidth': 1.5}\n",
    "sns.set_theme(style=\"white\", rc=custom_params)\n"
   ]
  },
  {
   "cell_type": "code",
   "execution_count": 195,
   "id": "dd5db1c2",
   "metadata": {},
   "outputs": [
    {
     "data": {
      "image/png": "[encoded data removed]",
      "text/plain": [
       "<Figure size 800x400 with 1 Axes>"
      ]
     },
     "metadata": {},
     "output_type": "display_data"
    }
   ],
   "source": [
    "img = sns.histplot(data=df, x='age', fill=True, bins=30)\n",
    "img.set_ylabel('NUMBER OF PATIENTS')\n",
    "img.set_xlabel('AGE (YEARS)')\n",
    "fig = img.get_figure()\n",
    "fig.savefig('Age histogram.tiff', dpi=600, bbox_inches='tight')"
   ]
  },
  {
   "cell_type": "code",
   "execution_count": 198,
   "id": "4483ba03",
   "metadata": {},
   "outputs": [
    {
     "data": {
      "image/png": "[encoded data removed]",
      "text/plain": [
       "<Figure size 800x400 with 1 Axes>"
      ]
     },
     "metadata": {},
     "output_type": "display_data"
    }
   ],
   "source": [
    "img = sns.boxplot(data=df, x='death', y='age', width=0.5)\n",
    "img.set_ylabel('AGE (YEARS)')\n",
    "img.set_xlabel(None)\n",
    "img.set_xticklabels(['SURVIVAL', 'DEATH'])\n",
    "fig = img.get_figure()\n",
    "fig.savefig('Age boxplot.tiff', dpi=600, bbox_inches='tight')"
   ]
  },
  {
   "cell_type": "code",
   "execution_count": 163,
   "id": "272ec803",
   "metadata": {},
   "outputs": [
    {
     "data": {
      "text/plain": [
       "70.0"
      ]
     },
     "execution_count": 163,
     "metadata": {},
     "output_type": "execute_result"
    }
   ],
   "source": [
    "df['age'].median()"
   ]
  },
  {
   "cell_type": "code",
   "execution_count": 164,
   "id": "37c859f3",
   "metadata": {},
   "outputs": [
    {
     "data": {
      "text/plain": [
       "death\n",
       "0    67.0\n",
       "1    74.0\n",
       "Name: age, dtype: float64"
      ]
     },
     "execution_count": 164,
     "metadata": {},
     "output_type": "execute_result"
    }
   ],
   "source": [
    "df.groupby('death')['age'].median()"
   ]
  },
  {
   "cell_type": "markdown",
   "id": "76426fb6",
   "metadata": {},
   "source": [
    "### Sex"
   ]
  },
  {
   "cell_type": "code",
   "execution_count": 165,
   "id": "e54c02e6",
   "metadata": {},
   "outputs": [
    {
     "data": {
      "text/html": [
       "<div>\n",
       "<style scoped>\n",
       "    .dataframe tbody tr th:only-of-type {\n",
       "        vertical-align: middle;\n",
       "    }\n",
       "\n",
       "    .dataframe tbody tr th {\n",
       "        vertical-align: top;\n",
       "    }\n",
       "\n",
       "    .dataframe thead th {\n",
       "        text-align: right;\n",
       "    }\n",
       "</style>\n",
       "<table border=\"1\" class=\"dataframe\">\n",
       "  <thead>\n",
       "    <tr style=\"text-align: right;\">\n",
       "      <th>death</th>\n",
       "      <th>0</th>\n",
       "      <th>1</th>\n",
       "    </tr>\n",
       "    <tr>\n",
       "      <th>male</th>\n",
       "      <th></th>\n",
       "      <th></th>\n",
       "    </tr>\n",
       "  </thead>\n",
       "  <tbody>\n",
       "    <tr>\n",
       "      <th>0</th>\n",
       "      <td>16786</td>\n",
       "      <td>8731</td>\n",
       "    </tr>\n",
       "    <tr>\n",
       "      <th>1</th>\n",
       "      <td>15758</td>\n",
       "      <td>10241</td>\n",
       "    </tr>\n",
       "  </tbody>\n",
       "</table>\n",
       "</div>"
      ],
      "text/plain": [
       "death      0      1\n",
       "male               \n",
       "0      16786   8731\n",
       "1      15758  10241"
      ]
     },
     "execution_count": 165,
     "metadata": {},
     "output_type": "execute_result"
    }
   ],
   "source": [
    "male = df.groupby('male')['death'].value_counts().unstack()\n",
    "male"
   ]
  },
  {
   "cell_type": "markdown",
   "id": "c9fbd284",
   "metadata": {},
   "source": [
    "### Race"
   ]
  },
  {
   "cell_type": "code",
   "execution_count": 166,
   "id": "d321246b",
   "metadata": {},
   "outputs": [
    {
     "data": {
      "text/html": [
       "<div>\n",
       "<style scoped>\n",
       "    .dataframe tbody tr th:only-of-type {\n",
       "        vertical-align: middle;\n",
       "    }\n",
       "\n",
       "    .dataframe tbody tr th {\n",
       "        vertical-align: top;\n",
       "    }\n",
       "\n",
       "    .dataframe thead th {\n",
       "        text-align: right;\n",
       "    }\n",
       "</style>\n",
       "<table border=\"1\" class=\"dataframe\">\n",
       "  <thead>\n",
       "    <tr style=\"text-align: right;\">\n",
       "      <th>death</th>\n",
       "      <th>0</th>\n",
       "      <th>1</th>\n",
       "    </tr>\n",
       "    <tr>\n",
       "      <th>race</th>\n",
       "      <th></th>\n",
       "      <th></th>\n",
       "    </tr>\n",
       "  </thead>\n",
       "  <tbody>\n",
       "    <tr>\n",
       "      <th>asian</th>\n",
       "      <td>285</td>\n",
       "      <td>176</td>\n",
       "    </tr>\n",
       "    <tr>\n",
       "      <th>black</th>\n",
       "      <td>1659</td>\n",
       "      <td>1069</td>\n",
       "    </tr>\n",
       "    <tr>\n",
       "      <th>indigenous</th>\n",
       "      <td>34</td>\n",
       "      <td>32</td>\n",
       "    </tr>\n",
       "    <tr>\n",
       "      <th>mixed</th>\n",
       "      <td>8618</td>\n",
       "      <td>5225</td>\n",
       "    </tr>\n",
       "    <tr>\n",
       "      <th>white</th>\n",
       "      <td>21948</td>\n",
       "      <td>12470</td>\n",
       "    </tr>\n",
       "  </tbody>\n",
       "</table>\n",
       "</div>"
      ],
      "text/plain": [
       "death           0      1\n",
       "race                    \n",
       "asian         285    176\n",
       "black        1659   1069\n",
       "indigenous     34     32\n",
       "mixed        8618   5225\n",
       "white       21948  12470"
      ]
     },
     "execution_count": 166,
     "metadata": {},
     "output_type": "execute_result"
    }
   ],
   "source": [
    "race = df.groupby('race')['death'].value_counts().unstack()\n",
    "race"
   ]
  },
  {
   "attachments": {},
   "cell_type": "markdown",
   "id": "52e61a46",
   "metadata": {},
   "source": [
    "### Education"
   ]
  },
  {
   "cell_type": "code",
   "execution_count": 167,
   "id": "6a6784cb",
   "metadata": {},
   "outputs": [
    {
     "data": {
      "text/html": [
       "<div>\n",
       "<style scoped>\n",
       "    .dataframe tbody tr th:only-of-type {\n",
       "        vertical-align: middle;\n",
       "    }\n",
       "\n",
       "    .dataframe tbody tr th {\n",
       "        vertical-align: top;\n",
       "    }\n",
       "\n",
       "    .dataframe thead th {\n",
       "        text-align: right;\n",
       "    }\n",
       "</style>\n",
       "<table border=\"1\" class=\"dataframe\">\n",
       "  <thead>\n",
       "    <tr style=\"text-align: right;\">\n",
       "      <th>death</th>\n",
       "      <th>0</th>\n",
       "      <th>1</th>\n",
       "    </tr>\n",
       "    <tr>\n",
       "      <th>education</th>\n",
       "      <th></th>\n",
       "      <th></th>\n",
       "    </tr>\n",
       "  </thead>\n",
       "  <tbody>\n",
       "    <tr>\n",
       "      <th>illiterate</th>\n",
       "      <td>2687</td>\n",
       "      <td>2220</td>\n",
       "    </tr>\n",
       "    <tr>\n",
       "      <th>5_grade</th>\n",
       "      <td>10694</td>\n",
       "      <td>7447</td>\n",
       "    </tr>\n",
       "    <tr>\n",
       "      <th>9_grade</th>\n",
       "      <td>6457</td>\n",
       "      <td>3662</td>\n",
       "    </tr>\n",
       "    <tr>\n",
       "      <th>12_grade</th>\n",
       "      <td>8719</td>\n",
       "      <td>4016</td>\n",
       "    </tr>\n",
       "    <tr>\n",
       "      <th>higher_ed</th>\n",
       "      <td>3987</td>\n",
       "      <td>1627</td>\n",
       "    </tr>\n",
       "  </tbody>\n",
       "</table>\n",
       "</div>"
      ],
      "text/plain": [
       "death           0     1\n",
       "education              \n",
       "illiterate   2687  2220\n",
       "5_grade     10694  7447\n",
       "9_grade      6457  3662\n",
       "12_grade     8719  4016\n",
       "higher_ed    3987  1627"
      ]
     },
     "execution_count": 167,
     "metadata": {},
     "output_type": "execute_result"
    }
   ],
   "source": [
    "ed = df.groupby('education')['death'].value_counts().unstack()\n",
    "ed"
   ]
  },
  {
   "cell_type": "code",
   "execution_count": 168,
   "id": "8dd89a3d",
   "metadata": {},
   "outputs": [
    {
     "data": {
      "text/html": [
       "<div>\n",
       "<style scoped>\n",
       "    .dataframe tbody tr th:only-of-type {\n",
       "        vertical-align: middle;\n",
       "    }\n",
       "\n",
       "    .dataframe tbody tr th {\n",
       "        vertical-align: top;\n",
       "    }\n",
       "\n",
       "    .dataframe thead th {\n",
       "        text-align: right;\n",
       "    }\n",
       "</style>\n",
       "<table border=\"1\" class=\"dataframe\">\n",
       "  <thead>\n",
       "    <tr style=\"text-align: right;\">\n",
       "      <th>death</th>\n",
       "      <th>0</th>\n",
       "      <th>1</th>\n",
       "    </tr>\n",
       "  </thead>\n",
       "  <tbody>\n",
       "    <tr>\n",
       "      <th>0</th>\n",
       "      <td>16786</td>\n",
       "      <td>8731</td>\n",
       "    </tr>\n",
       "    <tr>\n",
       "      <th>1</th>\n",
       "      <td>15758</td>\n",
       "      <td>10241</td>\n",
       "    </tr>\n",
       "    <tr>\n",
       "      <th>asian</th>\n",
       "      <td>285</td>\n",
       "      <td>176</td>\n",
       "    </tr>\n",
       "    <tr>\n",
       "      <th>black</th>\n",
       "      <td>1659</td>\n",
       "      <td>1069</td>\n",
       "    </tr>\n",
       "    <tr>\n",
       "      <th>indigenous</th>\n",
       "      <td>34</td>\n",
       "      <td>32</td>\n",
       "    </tr>\n",
       "    <tr>\n",
       "      <th>mixed</th>\n",
       "      <td>8618</td>\n",
       "      <td>5225</td>\n",
       "    </tr>\n",
       "    <tr>\n",
       "      <th>white</th>\n",
       "      <td>21948</td>\n",
       "      <td>12470</td>\n",
       "    </tr>\n",
       "    <tr>\n",
       "      <th>illiterate</th>\n",
       "      <td>2687</td>\n",
       "      <td>2220</td>\n",
       "    </tr>\n",
       "    <tr>\n",
       "      <th>5_grade</th>\n",
       "      <td>10694</td>\n",
       "      <td>7447</td>\n",
       "    </tr>\n",
       "    <tr>\n",
       "      <th>9_grade</th>\n",
       "      <td>6457</td>\n",
       "      <td>3662</td>\n",
       "    </tr>\n",
       "    <tr>\n",
       "      <th>12_grade</th>\n",
       "      <td>8719</td>\n",
       "      <td>4016</td>\n",
       "    </tr>\n",
       "    <tr>\n",
       "      <th>higher_ed</th>\n",
       "      <td>3987</td>\n",
       "      <td>1627</td>\n",
       "    </tr>\n",
       "  </tbody>\n",
       "</table>\n",
       "</div>"
      ],
      "text/plain": [
       "death           0      1\n",
       "0           16786   8731\n",
       "1           15758  10241\n",
       "asian         285    176\n",
       "black        1659   1069\n",
       "indigenous     34     32\n",
       "mixed        8618   5225\n",
       "white       21948  12470\n",
       "illiterate   2687   2220\n",
       "5_grade     10694   7447\n",
       "9_grade      6457   3662\n",
       "12_grade     8719   4016\n",
       "higher_ed    3987   1627"
      ]
     },
     "execution_count": 168,
     "metadata": {},
     "output_type": "execute_result"
    }
   ],
   "source": [
    "dem_table = pd.concat([male, race, ed])\n",
    "dem_table.to_excel('Demograpics_table.xlsx')\n",
    "dem_table"
   ]
  },
  {
   "attachments": {},
   "cell_type": "markdown",
   "id": "f5a4149a",
   "metadata": {},
   "source": [
    "## Comorbidities"
   ]
  },
  {
   "cell_type": "code",
   "execution_count": 169,
   "id": "c7989b9c",
   "metadata": {},
   "outputs": [
    {
     "name": "stdout",
     "output_type": "stream",
     "text": [
      "['lung_disease', 'liver_disease', 'heart_disease', 'kidney_disease', 'blood_disease', 'neuro_disease']\n"
     ]
    },
    {
     "data": {
      "text/html": [
       "<div>\n",
       "<style scoped>\n",
       "    .dataframe tbody tr th:only-of-type {\n",
       "        vertical-align: middle;\n",
       "    }\n",
       "\n",
       "    .dataframe tbody tr th {\n",
       "        vertical-align: top;\n",
       "    }\n",
       "\n",
       "    .dataframe thead th {\n",
       "        text-align: right;\n",
       "    }\n",
       "</style>\n",
       "<table border=\"1\" class=\"dataframe\">\n",
       "  <thead>\n",
       "    <tr style=\"text-align: right;\">\n",
       "      <th></th>\n",
       "      <th>presence</th>\n",
       "      <th>survival</th>\n",
       "      <th>death</th>\n",
       "      <th>odds_ratio</th>\n",
       "      <th>pvalue</th>\n",
       "    </tr>\n",
       "  </thead>\n",
       "  <tbody>\n",
       "    <tr>\n",
       "      <th>asthma</th>\n",
       "      <td>no</td>\n",
       "      <td>31009</td>\n",
       "      <td>18433</td>\n",
       "      <td>0.59 (0.53-0.65)</td>\n",
       "      <td>&lt;0.01</td>\n",
       "    </tr>\n",
       "    <tr>\n",
       "      <th>asthma</th>\n",
       "      <td>yes</td>\n",
       "      <td>1535</td>\n",
       "      <td>539</td>\n",
       "      <td>0.59 (0.53-0.65)</td>\n",
       "      <td>&lt;0.01</td>\n",
       "    </tr>\n",
       "    <tr>\n",
       "      <th>blood_disease</th>\n",
       "      <td>no</td>\n",
       "      <td>32083</td>\n",
       "      <td>18604</td>\n",
       "      <td>1.38 (1.2-1.58)</td>\n",
       "      <td>&lt;0.01</td>\n",
       "    </tr>\n",
       "    <tr>\n",
       "      <th>blood_disease</th>\n",
       "      <td>yes</td>\n",
       "      <td>461</td>\n",
       "      <td>368</td>\n",
       "      <td>1.38 (1.2-1.58)</td>\n",
       "      <td>&lt;0.01</td>\n",
       "    </tr>\n",
       "    <tr>\n",
       "      <th>diabetes</th>\n",
       "      <td>no</td>\n",
       "      <td>21310</td>\n",
       "      <td>11795</td>\n",
       "      <td>1.15 (1.11-1.2)</td>\n",
       "      <td>&lt;0.01</td>\n",
       "    </tr>\n",
       "    <tr>\n",
       "      <th>diabetes</th>\n",
       "      <td>yes</td>\n",
       "      <td>11234</td>\n",
       "      <td>7177</td>\n",
       "      <td>1.15 (1.11-1.2)</td>\n",
       "      <td>&lt;0.01</td>\n",
       "    </tr>\n",
       "    <tr>\n",
       "      <th>heart_disease</th>\n",
       "      <td>no</td>\n",
       "      <td>15896</td>\n",
       "      <td>8041</td>\n",
       "      <td>1.3 (1.25-1.35)</td>\n",
       "      <td>&lt;0.01</td>\n",
       "    </tr>\n",
       "    <tr>\n",
       "      <th>heart_disease</th>\n",
       "      <td>yes</td>\n",
       "      <td>16648</td>\n",
       "      <td>10931</td>\n",
       "      <td>1.3 (1.25-1.35)</td>\n",
       "      <td>&lt;0.01</td>\n",
       "    </tr>\n",
       "    <tr>\n",
       "      <th>kidney_disease</th>\n",
       "      <td>no</td>\n",
       "      <td>30604</td>\n",
       "      <td>16963</td>\n",
       "      <td>1.87 (1.75-2.0)</td>\n",
       "      <td>&lt;0.01</td>\n",
       "    </tr>\n",
       "    <tr>\n",
       "      <th>kidney_disease</th>\n",
       "      <td>yes</td>\n",
       "      <td>1940</td>\n",
       "      <td>2009</td>\n",
       "      <td>1.87 (1.75-2.0)</td>\n",
       "      <td>&lt;0.01</td>\n",
       "    </tr>\n",
       "    <tr>\n",
       "      <th>liver_disease</th>\n",
       "      <td>no</td>\n",
       "      <td>32127</td>\n",
       "      <td>18504</td>\n",
       "      <td>1.95 (1.7-2.23)</td>\n",
       "      <td>&lt;0.01</td>\n",
       "    </tr>\n",
       "    <tr>\n",
       "      <th>liver_disease</th>\n",
       "      <td>yes</td>\n",
       "      <td>417</td>\n",
       "      <td>468</td>\n",
       "      <td>1.95 (1.7-2.23)</td>\n",
       "      <td>&lt;0.01</td>\n",
       "    </tr>\n",
       "    <tr>\n",
       "      <th>lung_disease</th>\n",
       "      <td>no</td>\n",
       "      <td>30313</td>\n",
       "      <td>17001</td>\n",
       "      <td>1.58 (1.48-1.68)</td>\n",
       "      <td>&lt;0.01</td>\n",
       "    </tr>\n",
       "    <tr>\n",
       "      <th>lung_disease</th>\n",
       "      <td>yes</td>\n",
       "      <td>2231</td>\n",
       "      <td>1971</td>\n",
       "      <td>1.58 (1.48-1.68)</td>\n",
       "      <td>&lt;0.01</td>\n",
       "    </tr>\n",
       "    <tr>\n",
       "      <th>neuro_disease</th>\n",
       "      <td>no</td>\n",
       "      <td>30040</td>\n",
       "      <td>16705</td>\n",
       "      <td>1.63 (1.53-1.73)</td>\n",
       "      <td>&lt;0.01</td>\n",
       "    </tr>\n",
       "    <tr>\n",
       "      <th>neuro_disease</th>\n",
       "      <td>yes</td>\n",
       "      <td>2504</td>\n",
       "      <td>2267</td>\n",
       "      <td>1.63 (1.53-1.73)</td>\n",
       "      <td>&lt;0.01</td>\n",
       "    </tr>\n",
       "    <tr>\n",
       "      <th>obesity</th>\n",
       "      <td>no</td>\n",
       "      <td>28358</td>\n",
       "      <td>16809</td>\n",
       "      <td>0.87 (0.82-0.92)</td>\n",
       "      <td>&lt;0.01</td>\n",
       "    </tr>\n",
       "    <tr>\n",
       "      <th>obesity</th>\n",
       "      <td>yes</td>\n",
       "      <td>4186</td>\n",
       "      <td>2163</td>\n",
       "      <td>0.87 (0.82-0.92)</td>\n",
       "      <td>&lt;0.01</td>\n",
       "    </tr>\n",
       "    <tr>\n",
       "      <th>pregnancy</th>\n",
       "      <td>no</td>\n",
       "      <td>32133</td>\n",
       "      <td>18922</td>\n",
       "      <td>0.21 (0.15-0.28)</td>\n",
       "      <td>&lt;0.01</td>\n",
       "    </tr>\n",
       "    <tr>\n",
       "      <th>pregnancy</th>\n",
       "      <td>yes</td>\n",
       "      <td>411</td>\n",
       "      <td>50</td>\n",
       "      <td>0.21 (0.15-0.28)</td>\n",
       "      <td>&lt;0.01</td>\n",
       "    </tr>\n",
       "  </tbody>\n",
       "</table>\n",
       "</div>"
      ],
      "text/plain": [
       "               presence survival  death        odds_ratio pvalue\n",
       "asthma               no    31009  18433  0.59 (0.53-0.65)  <0.01\n",
       "asthma              yes     1535    539  0.59 (0.53-0.65)  <0.01\n",
       "blood_disease        no    32083  18604   1.38 (1.2-1.58)  <0.01\n",
       "blood_disease       yes      461    368   1.38 (1.2-1.58)  <0.01\n",
       "diabetes             no    21310  11795   1.15 (1.11-1.2)  <0.01\n",
       "diabetes            yes    11234   7177   1.15 (1.11-1.2)  <0.01\n",
       "heart_disease        no    15896   8041   1.3 (1.25-1.35)  <0.01\n",
       "heart_disease       yes    16648  10931   1.3 (1.25-1.35)  <0.01\n",
       "kidney_disease       no    30604  16963   1.87 (1.75-2.0)  <0.01\n",
       "kidney_disease      yes     1940   2009   1.87 (1.75-2.0)  <0.01\n",
       "liver_disease        no    32127  18504   1.95 (1.7-2.23)  <0.01\n",
       "liver_disease       yes      417    468   1.95 (1.7-2.23)  <0.01\n",
       "lung_disease         no    30313  17001  1.58 (1.48-1.68)  <0.01\n",
       "lung_disease        yes     2231   1971  1.58 (1.48-1.68)  <0.01\n",
       "neuro_disease        no    30040  16705  1.63 (1.53-1.73)  <0.01\n",
       "neuro_disease       yes     2504   2267  1.63 (1.53-1.73)  <0.01\n",
       "obesity              no    28358  16809  0.87 (0.82-0.92)  <0.01\n",
       "obesity             yes     4186   2163  0.87 (0.82-0.92)  <0.01\n",
       "pregnancy            no    32133  18922  0.21 (0.15-0.28)  <0.01\n",
       "pregnancy           yes      411     50  0.21 (0.15-0.28)  <0.01"
      ]
     },
     "execution_count": 169,
     "metadata": {},
     "output_type": "execute_result"
    }
   ],
   "source": [
    "comorb_table = pd.DataFrame(columns=['odds_ratio', 'pvalue'])\n",
    "comorb_table_cont = pd.DataFrame(columns=['survival', 'death'])\n",
    "select_comorb = []\n",
    "\n",
    "for comorb in comorbidities: \n",
    "    cont_table = df.groupby(comorb)['death'].value_counts().unstack()\n",
    "    fisher = fisher_exact(cont_table) \n",
    "    fisher = round(fisher.pvalue, 2)\n",
    "    fisher = (lambda x: str(x) if x >= 0.01 else '<0.01')(fisher)\n",
    "    odds = odds_ratio(cont_table)\n",
    "    odds_stat = round(odds.statistic, 2)\n",
    "    ci = odds.confidence_interval(0.95)\n",
    "    \n",
    "    # Selecting the comorbidities for the training set: \n",
    "    if (odds_stat >= 1.20):\n",
    "        select_comorb.append(comorb)\n",
    "\n",
    "    comorb_table.loc[comorb, 'odds_ratio'] = f'{odds_stat} ({round(ci.low, 2)}-{round(ci.high, 2)})'\n",
    "    comorb_table.loc[comorb, 'pvalue'] = fisher\n",
    "    cont_table.rename({0: 'survival', 1:'death'}, axis=1, inplace=True)\n",
    "    cont_table.rename({0: f'no', 1: 'yes'}, axis=0, inplace=True)\n",
    "    cont_table.reset_index(inplace=True)\n",
    "    cont_table.rename({comorb:'presence'}, axis=1, inplace=True)\n",
    "    cont_table.index = [comorb]*2\n",
    "    comorb_table_cont = pd.concat([comorb_table_cont, cont_table])\n",
    "\n",
    "comorb_table = comorb_table_cont.join(comorb_table)\n",
    "comorb_table = comorb_table.reindex(['presence', 'survival', 'death', 'odds_ratio', 'pvalue'], axis=1).copy()\n",
    "comorb_table.to_excel('Comorbidity_table.xlsx')\n",
    "print(select_comorb)\n",
    "comorb_table"
   ]
  },
  {
   "attachments": {},
   "cell_type": "markdown",
   "id": "a4a1b85b",
   "metadata": {},
   "source": [
    "## Signs and Symptoms"
   ]
  },
  {
   "cell_type": "code",
   "execution_count": 170,
   "id": "57b2c794",
   "metadata": {},
   "outputs": [
    {
     "name": "stdout",
     "output_type": "stream",
     "text": [
      "['dyspnea', 'resp_discomfort', 'oxygen_saturation']\n"
     ]
    },
    {
     "data": {
      "text/html": [
       "<div>\n",
       "<style scoped>\n",
       "    .dataframe tbody tr th:only-of-type {\n",
       "        vertical-align: middle;\n",
       "    }\n",
       "\n",
       "    .dataframe tbody tr th {\n",
       "        vertical-align: top;\n",
       "    }\n",
       "\n",
       "    .dataframe thead th {\n",
       "        text-align: right;\n",
       "    }\n",
       "</style>\n",
       "<table border=\"1\" class=\"dataframe\">\n",
       "  <thead>\n",
       "    <tr style=\"text-align: right;\">\n",
       "      <th></th>\n",
       "      <th>presence</th>\n",
       "      <th>survival</th>\n",
       "      <th>death</th>\n",
       "      <th>odds_ratio</th>\n",
       "      <th>pvalue</th>\n",
       "    </tr>\n",
       "  </thead>\n",
       "  <tbody>\n",
       "    <tr>\n",
       "      <th>abd_pain</th>\n",
       "      <td>no</td>\n",
       "      <td>29752</td>\n",
       "      <td>17591</td>\n",
       "      <td>0.84 (0.78-0.9)</td>\n",
       "      <td>&lt;0.01</td>\n",
       "    </tr>\n",
       "    <tr>\n",
       "      <th>abd_pain</th>\n",
       "      <td>yes</td>\n",
       "      <td>2792</td>\n",
       "      <td>1381</td>\n",
       "      <td>0.84 (0.78-0.9)</td>\n",
       "      <td>&lt;0.01</td>\n",
       "    </tr>\n",
       "    <tr>\n",
       "      <th>cough</th>\n",
       "      <td>no</td>\n",
       "      <td>8768</td>\n",
       "      <td>6744</td>\n",
       "      <td>0.67 (0.64-0.7)</td>\n",
       "      <td>&lt;0.01</td>\n",
       "    </tr>\n",
       "    <tr>\n",
       "      <th>cough</th>\n",
       "      <td>yes</td>\n",
       "      <td>23776</td>\n",
       "      <td>12228</td>\n",
       "      <td>0.67 (0.64-0.7)</td>\n",
       "      <td>&lt;0.01</td>\n",
       "    </tr>\n",
       "    <tr>\n",
       "      <th>diarrhea</th>\n",
       "      <td>no</td>\n",
       "      <td>28425</td>\n",
       "      <td>16833</td>\n",
       "      <td>0.88 (0.83-0.93)</td>\n",
       "      <td>&lt;0.01</td>\n",
       "    </tr>\n",
       "    <tr>\n",
       "      <th>diarrhea</th>\n",
       "      <td>yes</td>\n",
       "      <td>4119</td>\n",
       "      <td>2139</td>\n",
       "      <td>0.88 (0.83-0.93)</td>\n",
       "      <td>&lt;0.01</td>\n",
       "    </tr>\n",
       "    <tr>\n",
       "      <th>dyspnea</th>\n",
       "      <td>no</td>\n",
       "      <td>10872</td>\n",
       "      <td>3758</td>\n",
       "      <td>2.03 (1.95-2.12)</td>\n",
       "      <td>&lt;0.01</td>\n",
       "    </tr>\n",
       "    <tr>\n",
       "      <th>dyspnea</th>\n",
       "      <td>yes</td>\n",
       "      <td>21672</td>\n",
       "      <td>15214</td>\n",
       "      <td>2.03 (1.95-2.12)</td>\n",
       "      <td>&lt;0.01</td>\n",
       "    </tr>\n",
       "    <tr>\n",
       "      <th>fatigue</th>\n",
       "      <td>no</td>\n",
       "      <td>22064</td>\n",
       "      <td>13127</td>\n",
       "      <td>0.94 (0.9-0.97)</td>\n",
       "      <td>&lt;0.01</td>\n",
       "    </tr>\n",
       "    <tr>\n",
       "      <th>fatigue</th>\n",
       "      <td>yes</td>\n",
       "      <td>10480</td>\n",
       "      <td>5845</td>\n",
       "      <td>0.94 (0.9-0.97)</td>\n",
       "      <td>&lt;0.01</td>\n",
       "    </tr>\n",
       "    <tr>\n",
       "      <th>fever</th>\n",
       "      <td>no</td>\n",
       "      <td>16656</td>\n",
       "      <td>10517</td>\n",
       "      <td>0.84 (0.81-0.87)</td>\n",
       "      <td>&lt;0.01</td>\n",
       "    </tr>\n",
       "    <tr>\n",
       "      <th>fever</th>\n",
       "      <td>yes</td>\n",
       "      <td>15888</td>\n",
       "      <td>8455</td>\n",
       "      <td>0.84 (0.81-0.87)</td>\n",
       "      <td>&lt;0.01</td>\n",
       "    </tr>\n",
       "    <tr>\n",
       "      <th>loss_smell</th>\n",
       "      <td>no</td>\n",
       "      <td>29794</td>\n",
       "      <td>17985</td>\n",
       "      <td>0.59 (0.55-0.64)</td>\n",
       "      <td>&lt;0.01</td>\n",
       "    </tr>\n",
       "    <tr>\n",
       "      <th>loss_smell</th>\n",
       "      <td>yes</td>\n",
       "      <td>2750</td>\n",
       "      <td>987</td>\n",
       "      <td>0.59 (0.55-0.64)</td>\n",
       "      <td>&lt;0.01</td>\n",
       "    </tr>\n",
       "    <tr>\n",
       "      <th>loss_taste</th>\n",
       "      <td>no</td>\n",
       "      <td>29564</td>\n",
       "      <td>17963</td>\n",
       "      <td>0.56 (0.52-0.6)</td>\n",
       "      <td>&lt;0.01</td>\n",
       "    </tr>\n",
       "    <tr>\n",
       "      <th>loss_taste</th>\n",
       "      <td>yes</td>\n",
       "      <td>2980</td>\n",
       "      <td>1009</td>\n",
       "      <td>0.56 (0.52-0.6)</td>\n",
       "      <td>&lt;0.01</td>\n",
       "    </tr>\n",
       "    <tr>\n",
       "      <th>oxygen_saturation</th>\n",
       "      <td>no</td>\n",
       "      <td>11276</td>\n",
       "      <td>3556</td>\n",
       "      <td>2.3 (2.2-2.4)</td>\n",
       "      <td>&lt;0.01</td>\n",
       "    </tr>\n",
       "    <tr>\n",
       "      <th>oxygen_saturation</th>\n",
       "      <td>yes</td>\n",
       "      <td>21268</td>\n",
       "      <td>15416</td>\n",
       "      <td>2.3 (2.2-2.4)</td>\n",
       "      <td>&lt;0.01</td>\n",
       "    </tr>\n",
       "    <tr>\n",
       "      <th>resp_discomfort</th>\n",
       "      <td>no</td>\n",
       "      <td>15325</td>\n",
       "      <td>6198</td>\n",
       "      <td>1.83 (1.77-1.9)</td>\n",
       "      <td>&lt;0.01</td>\n",
       "    </tr>\n",
       "    <tr>\n",
       "      <th>resp_discomfort</th>\n",
       "      <td>yes</td>\n",
       "      <td>17219</td>\n",
       "      <td>12774</td>\n",
       "      <td>1.83 (1.77-1.9)</td>\n",
       "      <td>&lt;0.01</td>\n",
       "    </tr>\n",
       "    <tr>\n",
       "      <th>sore_throat</th>\n",
       "      <td>no</td>\n",
       "      <td>25884</td>\n",
       "      <td>16380</td>\n",
       "      <td>0.62 (0.59-0.65)</td>\n",
       "      <td>&lt;0.01</td>\n",
       "    </tr>\n",
       "    <tr>\n",
       "      <th>sore_throat</th>\n",
       "      <td>yes</td>\n",
       "      <td>6660</td>\n",
       "      <td>2592</td>\n",
       "      <td>0.62 (0.59-0.65)</td>\n",
       "      <td>&lt;0.01</td>\n",
       "    </tr>\n",
       "    <tr>\n",
       "      <th>vomiting</th>\n",
       "      <td>no</td>\n",
       "      <td>29255</td>\n",
       "      <td>17371</td>\n",
       "      <td>0.82 (0.77-0.87)</td>\n",
       "      <td>&lt;0.01</td>\n",
       "    </tr>\n",
       "    <tr>\n",
       "      <th>vomiting</th>\n",
       "      <td>yes</td>\n",
       "      <td>3289</td>\n",
       "      <td>1601</td>\n",
       "      <td>0.82 (0.77-0.87)</td>\n",
       "      <td>&lt;0.01</td>\n",
       "    </tr>\n",
       "  </tbody>\n",
       "</table>\n",
       "</div>"
      ],
      "text/plain": [
       "                  presence survival  death        odds_ratio pvalue\n",
       "abd_pain                no    29752  17591   0.84 (0.78-0.9)  <0.01\n",
       "abd_pain               yes     2792   1381   0.84 (0.78-0.9)  <0.01\n",
       "cough                   no     8768   6744   0.67 (0.64-0.7)  <0.01\n",
       "cough                  yes    23776  12228   0.67 (0.64-0.7)  <0.01\n",
       "diarrhea                no    28425  16833  0.88 (0.83-0.93)  <0.01\n",
       "diarrhea               yes     4119   2139  0.88 (0.83-0.93)  <0.01\n",
       "dyspnea                 no    10872   3758  2.03 (1.95-2.12)  <0.01\n",
       "dyspnea                yes    21672  15214  2.03 (1.95-2.12)  <0.01\n",
       "fatigue                 no    22064  13127   0.94 (0.9-0.97)  <0.01\n",
       "fatigue                yes    10480   5845   0.94 (0.9-0.97)  <0.01\n",
       "fever                   no    16656  10517  0.84 (0.81-0.87)  <0.01\n",
       "fever                  yes    15888   8455  0.84 (0.81-0.87)  <0.01\n",
       "loss_smell              no    29794  17985  0.59 (0.55-0.64)  <0.01\n",
       "loss_smell             yes     2750    987  0.59 (0.55-0.64)  <0.01\n",
       "loss_taste              no    29564  17963   0.56 (0.52-0.6)  <0.01\n",
       "loss_taste             yes     2980   1009   0.56 (0.52-0.6)  <0.01\n",
       "oxygen_saturation       no    11276   3556     2.3 (2.2-2.4)  <0.01\n",
       "oxygen_saturation      yes    21268  15416     2.3 (2.2-2.4)  <0.01\n",
       "resp_discomfort         no    15325   6198   1.83 (1.77-1.9)  <0.01\n",
       "resp_discomfort        yes    17219  12774   1.83 (1.77-1.9)  <0.01\n",
       "sore_throat             no    25884  16380  0.62 (0.59-0.65)  <0.01\n",
       "sore_throat            yes     6660   2592  0.62 (0.59-0.65)  <0.01\n",
       "vomiting                no    29255  17371  0.82 (0.77-0.87)  <0.01\n",
       "vomiting               yes     3289   1601  0.82 (0.77-0.87)  <0.01"
      ]
     },
     "execution_count": 170,
     "metadata": {},
     "output_type": "execute_result"
    }
   ],
   "source": [
    "symp_table = pd.DataFrame(columns=['odds_ratio', 'pvalue'])\n",
    "symp_table_cont = pd.DataFrame(columns=['survival', 'death'])\n",
    "select_symp = []\n",
    "\n",
    "for symp in signs_symptoms: \n",
    "    cont_table = df.groupby(symp)['death'].value_counts().unstack()\n",
    "    fisher = fisher_exact(cont_table) \n",
    "    fisher = round(fisher.pvalue, 2)\n",
    "    fisher = (lambda x: str(x) if x >= 0.01 else '<0.01')(fisher)\n",
    "    odds = odds_ratio(cont_table)\n",
    "    odds_stat = round(odds.statistic, 2)\n",
    "    ci = odds.confidence_interval(0.95)\n",
    "\n",
    "    # Selecting the signs/symptos for the training set: \n",
    "    if (odds_stat >= 1.25):\n",
    "        select_symp.append(symp)\n",
    "\n",
    "    symp_table.loc[symp, 'odds_ratio'] = f'{odds_stat} ({round(ci.low, 2)}-{round(ci.high, 2)})'\n",
    "    symp_table.loc[symp, 'pvalue'] = fisher\n",
    "    cont_table.rename({0: 'survival', 1:'death'}, axis=1, inplace=True)\n",
    "    cont_table.rename({0: f'no', 1: 'yes'}, axis=0, inplace=True)\n",
    "    cont_table.reset_index(inplace=True)\n",
    "    cont_table.rename({symp:'presence'}, axis=1, inplace=True)\n",
    "    cont_table.index = [symp]*2\n",
    "    symp_table_cont = pd.concat([symp_table_cont, cont_table])\n",
    "\n",
    "symp_table = symp_table_cont.join(symp_table)\n",
    "symp_table = symp_table.reindex(['presence', 'survival', 'death', 'odds_ratio', 'pvalue'], axis=1).copy()\n",
    "symp_table.to_excel('Symptoms_table.xlsx')\n",
    "print(select_symp)\n",
    "symp_table"
   ]
  },
  {
   "cell_type": "code",
   "execution_count": null,
   "id": "b5ae60e4",
   "metadata": {},
   "outputs": [],
   "source": [
    "fisher"
   ]
  },
  {
   "cell_type": "markdown",
   "id": "68a8c465",
   "metadata": {},
   "source": [
    "# Machine Learning Models"
   ]
  },
  {
   "cell_type": "code",
   "execution_count": 171,
   "id": "2b9fe7c9",
   "metadata": {},
   "outputs": [],
   "source": [
    "from sklearn.tree import DecisionTreeClassifier, export_graphviz\n",
    "from sklearn.ensemble import RandomForestClassifier\n",
    "from sklearn.neighbors import KNeighborsClassifier\n",
    "from sklearn.neural_network import MLPClassifier\n",
    "from sklearn.linear_model import LogisticRegression\n",
    "from sklearn.model_selection import train_test_split\n",
    "from sklearn.metrics import accuracy_score, precision_score, recall_score, f1_score, roc_auc_score\n",
    "import xgboost as xgb"
   ]
  },
  {
   "cell_type": "code",
   "execution_count": 172,
   "id": "1ad4066f",
   "metadata": {
    "scrolled": true
   },
   "outputs": [],
   "source": [
    "# Converting variables into dummies \n",
    "race = pd.get_dummies(df['race'], drop_first=True)\n",
    "education = pd.get_dummies(df['education'], drop_first=True)"
   ]
  },
  {
   "cell_type": "code",
   "execution_count": 173,
   "id": "f33ec696",
   "metadata": {},
   "outputs": [
    {
     "data": {
      "text/plain": [
       "['age',\n",
       " 'male',\n",
       " 'black',\n",
       " 'indigenous',\n",
       " 'mixed',\n",
       " 'white',\n",
       " '5_grade',\n",
       " '9_grade',\n",
       " '12_grade',\n",
       " 'higher_ed',\n",
       " 'diabetes',\n",
       " 'obesity',\n",
       " 'lung_disease',\n",
       " 'liver_disease',\n",
       " 'heart_disease',\n",
       " 'kidney_disease',\n",
       " 'asthma',\n",
       " 'blood_disease',\n",
       " 'pregnancy',\n",
       " 'neuro_disease',\n",
       " 'fever',\n",
       " 'cough',\n",
       " 'sore_throat',\n",
       " 'dyspnea',\n",
       " 'resp_discomfort',\n",
       " 'oxygen_saturation',\n",
       " 'diarrhea',\n",
       " 'vomiting',\n",
       " 'abd_pain',\n",
       " 'fatigue',\n",
       " 'loss_smell',\n",
       " 'loss_taste']"
      ]
     },
     "execution_count": 173,
     "metadata": {},
     "output_type": "execute_result"
    }
   ],
   "source": [
    "features = (['age', 'male'] + list(race.columns) + list(education.columns) + \n",
    "            comorbidities + signs_symptoms)\n",
    "features"
   ]
  },
  {
   "cell_type": "code",
   "execution_count": 174,
   "id": "ffd094a0",
   "metadata": {},
   "outputs": [
    {
     "name": "stdout",
     "output_type": "stream",
     "text": [
      "<class 'pandas.core.frame.DataFrame'>\n",
      "RangeIndex: 51516 entries, 0 to 51515\n",
      "Data columns (total 32 columns):\n",
      " #   Column             Non-Null Count  Dtype\n",
      "---  ------             --------------  -----\n",
      " 0   age                51516 non-null  uint8\n",
      " 1   male               51516 non-null  uint8\n",
      " 2   black              51516 non-null  uint8\n",
      " 3   indigenous         51516 non-null  uint8\n",
      " 4   mixed              51516 non-null  uint8\n",
      " 5   white              51516 non-null  uint8\n",
      " 6   5_grade            51516 non-null  uint8\n",
      " 7   9_grade            51516 non-null  uint8\n",
      " 8   12_grade           51516 non-null  uint8\n",
      " 9   higher_ed          51516 non-null  uint8\n",
      " 10  diabetes           51516 non-null  uint8\n",
      " 11  obesity            51516 non-null  uint8\n",
      " 12  lung_disease       51516 non-null  uint8\n",
      " 13  liver_disease      51516 non-null  uint8\n",
      " 14  heart_disease      51516 non-null  uint8\n",
      " 15  kidney_disease     51516 non-null  uint8\n",
      " 16  asthma             51516 non-null  uint8\n",
      " 17  blood_disease      51516 non-null  uint8\n",
      " 18  pregnancy          51516 non-null  uint8\n",
      " 19  neuro_disease      51516 non-null  uint8\n",
      " 20  fever              51516 non-null  uint8\n",
      " 21  cough              51516 non-null  uint8\n",
      " 22  sore_throat        51516 non-null  uint8\n",
      " 23  dyspnea            51516 non-null  uint8\n",
      " 24  resp_discomfort    51516 non-null  uint8\n",
      " 25  oxygen_saturation  51516 non-null  uint8\n",
      " 26  diarrhea           51516 non-null  uint8\n",
      " 27  vomiting           51516 non-null  uint8\n",
      " 28  abd_pain           51516 non-null  uint8\n",
      " 29  fatigue            51516 non-null  uint8\n",
      " 30  loss_smell         51516 non-null  uint8\n",
      " 31  loss_taste         51516 non-null  uint8\n",
      "dtypes: uint8(32)\n",
      "memory usage: 1.6 MB\n"
     ]
    }
   ],
   "source": [
    "X1 = pd.concat([df, race, education], axis=1)\n",
    "X1 = X1[features].copy()\n",
    "X1 = X1.astype('uint8')\n",
    "X1.info()"
   ]
  },
  {
   "cell_type": "code",
   "execution_count": 175,
   "id": "1ea3c0a5",
   "metadata": {
    "scrolled": true
   },
   "outputs": [
    {
     "name": "stdout",
     "output_type": "stream",
     "text": [
      "<class 'pandas.core.series.Series'>\n",
      "RangeIndex: 51516 entries, 0 to 51515\n",
      "Series name: death\n",
      "Non-Null Count  Dtype\n",
      "--------------  -----\n",
      "51516 non-null  uint8\n",
      "dtypes: uint8(1)\n",
      "memory usage: 50.4 KB\n"
     ]
    }
   ],
   "source": [
    "# Target variable\n",
    "y1 = df['death']\n",
    "y1 = y1.astype('uint8')\n",
    "y1.info()"
   ]
  },
  {
   "cell_type": "code",
   "execution_count": 176,
   "id": "ecd17cd2",
   "metadata": {},
   "outputs": [],
   "source": [
    "# Train-test split\n",
    "X1_train, X1_test, y1_train, y1_test = train_test_split(X1, \n",
    "                                                        y1, \n",
    "                                                        test_size=0.3,\n",
    "                                                        random_state=42,\n",
    "                                                        shuffle=True)"
   ]
  },
  {
   "cell_type": "code",
   "execution_count": 177,
   "id": "9c9a1a54",
   "metadata": {},
   "outputs": [],
   "source": [
    "# Dataframe with the metrics from all the models:\n",
    "df_models = pd.DataFrame()\n",
    "df_models.index.name = 'Models'"
   ]
  },
  {
   "cell_type": "code",
   "execution_count": 187,
   "id": "9b4d9985",
   "metadata": {},
   "outputs": [
    {
     "name": "stdout",
     "output_type": "stream",
     "text": [
      "Decision Tree\n",
      "Accuracy: 0.5753\n",
      "Precision: 0.4256\n",
      "Recall: 0.4167\n",
      "F1 score: 0.4211\n",
      "AUC: 0.5458\n"
     ]
    }
   ],
   "source": [
    "# Decision Tree\n",
    "clf = DecisionTreeClassifier(random_state=42)\n",
    "clf.fit(X1_train, y1_train)\n",
    "\n",
    "y_pred = clf.predict(X1_test)\n",
    "prob_pos = clf.predict_proba(X1_test)[:,1]\n",
    "\n",
    "model_name = 'Decision Tree'\n",
    "print(model_name)\n",
    "\n",
    "accuracy = accuracy_score(y1_test, y_pred)\n",
    "df_models.loc[model_name, 'Accuracy'] = round(accuracy, 4) \n",
    "print((\"Accuracy: {:.4f}\".format(accuracy)))\n",
    "\n",
    "precision = precision_score(y1_test, y_pred)\n",
    "df_models.loc[model_name, 'Precision'] = round(precision, 4) \n",
    "print(\"Precision: {:.4f}\".format(precision))\n",
    "\n",
    "recall = recall_score(y1_test, y_pred)\n",
    "df_models.loc[model_name, 'Recall'] = round(recall, 4) \n",
    "print(\"Recall: {:.4f}\".format(recall))\n",
    "\n",
    "f1 = f1_score(y1_test, y_pred)\n",
    "df_models.loc[model_name, 'F1 score'] = round(f1, 4) \n",
    "print(\"F1 score: {:.4f}\".format(f1))\n",
    "\n",
    "auc = roc_auc_score(y1_test, prob_pos)\n",
    "df_models.loc[model_name, 'AUC'] = round(auc, 4) \n",
    "print(\"AUC: {:.4f}\".format(auc))\n",
    "\n",
    "# DOT data:\n",
    "dot_data = export_graphviz(clf, out_file='tree.gv', \n",
    "                           feature_names=X1.columns,  \n",
    "                           class_names={1:'death', 0:'survival'},\n",
    "                           max_depth=3,\n",
    "                           filled=True)"
   ]
  },
  {
   "attachments": {},
   "cell_type": "markdown",
   "id": "410de413",
   "metadata": {},
   "source": [
    "Decision Tree Visualization\n",
    "- cd 'working_directory'\n",
    "- dot -Tpng -Gdpi=300 tree.gv -o tree.tiff"
   ]
  },
  {
   "cell_type": "code",
   "execution_count": 188,
   "id": "0b9b585e",
   "metadata": {},
   "outputs": [
    {
     "name": "stdout",
     "output_type": "stream",
     "text": [
      "Random Forest\n",
      "Accuracy: 0.6332\n",
      "Precision: 0.5071\n",
      "Recall: 0.3694\n",
      "F1 score: 0.4274\n",
      "AUC: 0.6352\n"
     ]
    }
   ],
   "source": [
    "# Random Forest\n",
    "\n",
    "clf = RandomForestClassifier(random_state=42)\n",
    "clf.fit(X1_train, y1_train)\n",
    "\n",
    "y_pred = clf.predict(X1_test)\n",
    "prob_pos = clf.predict_proba(X1_test)[:,1]\n",
    "\n",
    "model_name = 'Random Forest'\n",
    "print(model_name)\n",
    "\n",
    "accuracy = accuracy_score(y1_test, y_pred)\n",
    "df_models.loc[model_name, 'Accuracy'] = round(accuracy, 4) \n",
    "print((\"Accuracy: {:.4f}\".format(accuracy)))\n",
    "\n",
    "precision = precision_score(y1_test, y_pred)\n",
    "df_models.loc[model_name, 'Precision'] = round(precision, 4) \n",
    "print(\"Precision: {:.4f}\".format(precision))\n",
    "\n",
    "recall = recall_score(y1_test, y_pred)\n",
    "df_models.loc[model_name, 'Recall'] = round(recall, 4) \n",
    "print(\"Recall: {:.4f}\".format(recall))\n",
    "\n",
    "f1 = f1_score(y1_test, y_pred)\n",
    "df_models.loc[model_name, 'F1 score'] = round(f1, 4) \n",
    "print(\"F1 score: {:.4f}\".format(f1))\n",
    "\n",
    "auc = roc_auc_score(y1_test, prob_pos)\n",
    "df_models.loc[model_name, 'AUC'] = round(auc, 4) \n",
    "print(\"AUC: {:.4f}\".format(auc))"
   ]
  },
  {
   "cell_type": "code",
   "execution_count": 189,
   "id": "90895096",
   "metadata": {},
   "outputs": [
    {
     "name": "stdout",
     "output_type": "stream",
     "text": [
      "Multilinear Perceptron\n",
      "Accuracy: 0.6635\n",
      "Precision: 0.5569\n",
      "Recall: 0.4511\n",
      "F1 score: 0.4985\n",
      "AUC: 0.6935\n"
     ]
    }
   ],
   "source": [
    "# Multilinear Perceptron\n",
    "\n",
    "clf = MLPClassifier(random_state=42, hidden_layer_sizes=[5,4,2])\n",
    "clf.fit(X1_train, y1_train)\n",
    "\n",
    "y_pred = clf.predict(X1_test)\n",
    "prob_pos = clf.predict_proba(X1_test)[:,1]\n",
    "\n",
    "model_name = 'Multilinear Perceptron'\n",
    "print(model_name)\n",
    "\n",
    "accuracy = accuracy_score(y1_test, y_pred)\n",
    "df_models.loc[model_name, 'Accuracy'] = round(accuracy, 4) \n",
    "print((\"Accuracy: {:.4f}\".format(accuracy)))\n",
    "\n",
    "precision = precision_score(y1_test, y_pred)\n",
    "df_models.loc[model_name, 'Precision'] = round(precision, 4) \n",
    "print(\"Precision: {:.4f}\".format(precision))\n",
    "\n",
    "recall = recall_score(y1_test, y_pred)\n",
    "df_models.loc[model_name, 'Recall'] = round(recall, 4) \n",
    "print(\"Recall: {:.4f}\".format(recall))\n",
    "\n",
    "f1 = f1_score(y1_test, y_pred)\n",
    "df_models.loc[model_name, 'F1 score'] = round(f1, 4) \n",
    "print(\"F1 score: {:.4f}\".format(f1))\n",
    "\n",
    "auc = roc_auc_score(y1_test, prob_pos)\n",
    "df_models.loc[model_name, 'AUC'] = round(auc, 4) \n",
    "print(\"AUC: {:.4f}\".format(auc))"
   ]
  },
  {
   "cell_type": "code",
   "execution_count": 190,
   "id": "afaa04b1",
   "metadata": {},
   "outputs": [
    {
     "name": "stdout",
     "output_type": "stream",
     "text": [
      "K-Nearest Neighbors\n",
      "Accuracy: 0.6166\n",
      "Precision: 0.4783\n",
      "Recall: 0.3818\n",
      "F1 score: 0.4247\n",
      "AUC: 0.6042\n"
     ]
    }
   ],
   "source": [
    "# K-Nearest Neighbors\n",
    "\n",
    "clf = KNeighborsClassifier(n_neighbors=5)\n",
    "clf.fit(X1_train, y1_train)\n",
    "\n",
    "y_pred = clf.predict(X1_test)\n",
    "prob_pos = clf.predict_proba(X1_test)[:,1]\n",
    "\n",
    "model_name = 'K-Nearest Neighbors'\n",
    "print(model_name)\n",
    "\n",
    "accuracy = accuracy_score(y1_test, y_pred)\n",
    "df_models.loc[model_name, 'Accuracy'] = round(accuracy, 4) \n",
    "print((\"Accuracy: {:.4f}\".format(accuracy)))\n",
    "\n",
    "precision = precision_score(y1_test, y_pred)\n",
    "df_models.loc[model_name, 'Precision'] = round(precision, 4) \n",
    "print(\"Precision: {:.4f}\".format(precision))\n",
    "\n",
    "recall = recall_score(y1_test, y_pred)\n",
    "df_models.loc[model_name, 'Recall'] = round(recall, 4) \n",
    "print(\"Recall: {:.4f}\".format(recall))\n",
    "\n",
    "f1 = f1_score(y1_test, y_pred)\n",
    "df_models.loc[model_name, 'F1 score'] = round(f1, 4) \n",
    "print(\"F1 score: {:.4f}\".format(f1))\n",
    "\n",
    "auc = roc_auc_score(y1_test, prob_pos)\n",
    "df_models.loc[model_name, 'AUC'] = round(auc, 4) \n",
    "print(\"AUC: {:.4f}\".format(auc))"
   ]
  },
  {
   "cell_type": "code",
   "execution_count": 191,
   "id": "81c7c8f4",
   "metadata": {},
   "outputs": [
    {
     "name": "stdout",
     "output_type": "stream",
     "text": [
      "Logistic Regression\n",
      "Accuracy: 0.6698\n",
      "Precision: 0.5883\n",
      "Recall: 0.3637\n",
      "F1 score: 0.4495\n",
      "AUC: 0.6927\n"
     ]
    }
   ],
   "source": [
    "# Logistic Regression\n",
    "\n",
    "clf = LogisticRegression(random_state=42, max_iter=1000)\n",
    "clf.fit(X1_train, y1_train)\n",
    "\n",
    "y_pred = clf.predict(X1_test)\n",
    "prob_pos = clf.predict_proba(X1_test)[:,1]\n",
    "\n",
    "model_name = 'Logistic Regression'\n",
    "print(model_name)\n",
    "\n",
    "accuracy = accuracy_score(y1_test, y_pred)\n",
    "df_models.loc[model_name, 'Accuracy'] = round(accuracy, 4) \n",
    "print((\"Accuracy: {:.4f}\".format(accuracy)))\n",
    "\n",
    "precision = precision_score(y1_test, y_pred)\n",
    "df_models.loc[model_name, 'Precision'] = round(precision, 4) \n",
    "print(\"Precision: {:.4f}\".format(precision))\n",
    "\n",
    "recall = recall_score(y1_test, y_pred)\n",
    "df_models.loc[model_name, 'Recall'] = round(recall, 4) \n",
    "print(\"Recall: {:.4f}\".format(recall))\n",
    "\n",
    "f1 = f1_score(y1_test, y_pred)\n",
    "df_models.loc[model_name, 'F1 score'] = round(f1, 4) \n",
    "print(\"F1 score: {:.4f}\".format(f1))\n",
    "\n",
    "auc = roc_auc_score(y1_test, prob_pos)\n",
    "df_models.loc[model_name, 'AUC'] = round(auc, 4) \n",
    "print(\"AUC: {:.4f}\".format(auc))"
   ]
  },
  {
   "cell_type": "code",
   "execution_count": 192,
   "id": "fe6d5d41",
   "metadata": {},
   "outputs": [
    {
     "name": "stdout",
     "output_type": "stream",
     "text": [
      "XGBoost\n",
      "Accuracy: 0.6574\n",
      "Precision: 0.5577\n",
      "Recall: 0.3650\n",
      "F1 score: 0.4413\n",
      "AUC: 0.6779\n"
     ]
    }
   ],
   "source": [
    "# XGBoost\n",
    "\n",
    "clf_xgboost = xgb.XGBClassifier()\n",
    "clf_xgboost.fit(X1_train, y1_train)\n",
    "\n",
    "y_pred = clf_xgboost.predict(X1_test)\n",
    "prob_pos = clf_xgboost.predict_proba(X1_test)[:,1]\n",
    "\n",
    "model_name = 'XGBoost'\n",
    "print(model_name)\n",
    "\n",
    "accuracy = accuracy_score(y1_test, y_pred)\n",
    "df_models.loc[model_name, 'Accuracy'] = round(accuracy, 4) \n",
    "print((\"Accuracy: {:.4f}\".format(accuracy)))\n",
    "\n",
    "precision = precision_score(y1_test, y_pred)\n",
    "df_models.loc[model_name, 'Precision'] = round(precision, 4) \n",
    "print(\"Precision: {:.4f}\".format(precision))\n",
    "\n",
    "recall = recall_score(y1_test, y_pred)\n",
    "df_models.loc[model_name, 'Recall'] = round(recall, 4) \n",
    "print(\"Recall: {:.4f}\".format(recall))\n",
    "\n",
    "f1 = f1_score(y1_test, y_pred)\n",
    "df_models.loc[model_name, 'F1 score'] = round(f1, 4) \n",
    "print(\"F1 score: {:.4f}\".format(f1))\n",
    "\n",
    "auc = roc_auc_score(y1_test, prob_pos)\n",
    "df_models.loc[model_name, 'AUC'] = round(auc, 4) \n",
    "print(\"AUC: {:.4f}\".format(auc))"
   ]
  },
  {
   "cell_type": "code",
   "execution_count": 193,
   "id": "9a181ca5",
   "metadata": {},
   "outputs": [
    {
     "data": {
      "text/html": [
       "<div>\n",
       "<style scoped>\n",
       "    .dataframe tbody tr th:only-of-type {\n",
       "        vertical-align: middle;\n",
       "    }\n",
       "\n",
       "    .dataframe tbody tr th {\n",
       "        vertical-align: top;\n",
       "    }\n",
       "\n",
       "    .dataframe thead th {\n",
       "        text-align: right;\n",
       "    }\n",
       "</style>\n",
       "<table border=\"1\" class=\"dataframe\">\n",
       "  <thead>\n",
       "    <tr style=\"text-align: right;\">\n",
       "      <th></th>\n",
       "      <th>Accuracy</th>\n",
       "      <th>Precision</th>\n",
       "      <th>Recall</th>\n",
       "      <th>F1 score</th>\n",
       "      <th>AUC</th>\n",
       "    </tr>\n",
       "    <tr>\n",
       "      <th>Models</th>\n",
       "      <th></th>\n",
       "      <th></th>\n",
       "      <th></th>\n",
       "      <th></th>\n",
       "      <th></th>\n",
       "    </tr>\n",
       "  </thead>\n",
       "  <tbody>\n",
       "    <tr>\n",
       "      <th>Decision Tree</th>\n",
       "      <td>0.5753</td>\n",
       "      <td>0.4256</td>\n",
       "      <td>0.4167</td>\n",
       "      <td>0.4211</td>\n",
       "      <td>0.5458</td>\n",
       "    </tr>\n",
       "    <tr>\n",
       "      <th>Random Forest</th>\n",
       "      <td>0.6332</td>\n",
       "      <td>0.5071</td>\n",
       "      <td>0.3694</td>\n",
       "      <td>0.4274</td>\n",
       "      <td>0.6352</td>\n",
       "    </tr>\n",
       "    <tr>\n",
       "      <th>Multilinear Perceptron</th>\n",
       "      <td>0.6635</td>\n",
       "      <td>0.5569</td>\n",
       "      <td>0.4511</td>\n",
       "      <td>0.4985</td>\n",
       "      <td>0.6935</td>\n",
       "    </tr>\n",
       "    <tr>\n",
       "      <th>K-Nearest Neighbors</th>\n",
       "      <td>0.6166</td>\n",
       "      <td>0.4783</td>\n",
       "      <td>0.3818</td>\n",
       "      <td>0.4247</td>\n",
       "      <td>0.6042</td>\n",
       "    </tr>\n",
       "    <tr>\n",
       "      <th>Logistic Regression</th>\n",
       "      <td>0.6698</td>\n",
       "      <td>0.5883</td>\n",
       "      <td>0.3637</td>\n",
       "      <td>0.4495</td>\n",
       "      <td>0.6927</td>\n",
       "    </tr>\n",
       "    <tr>\n",
       "      <th>XGBoost</th>\n",
       "      <td>0.6574</td>\n",
       "      <td>0.5577</td>\n",
       "      <td>0.3650</td>\n",
       "      <td>0.4413</td>\n",
       "      <td>0.6779</td>\n",
       "    </tr>\n",
       "  </tbody>\n",
       "</table>\n",
       "</div>"
      ],
      "text/plain": [
       "                        Accuracy  Precision  Recall  F1 score     AUC\n",
       "Models                                                               \n",
       "Decision Tree             0.5753     0.4256  0.4167    0.4211  0.5458\n",
       "Random Forest             0.6332     0.5071  0.3694    0.4274  0.6352\n",
       "Multilinear Perceptron    0.6635     0.5569  0.4511    0.4985  0.6935\n",
       "K-Nearest Neighbors       0.6166     0.4783  0.3818    0.4247  0.6042\n",
       "Logistic Regression       0.6698     0.5883  0.3637    0.4495  0.6927\n",
       "XGBoost                   0.6574     0.5577  0.3650    0.4413  0.6779"
      ]
     },
     "execution_count": 193,
     "metadata": {},
     "output_type": "execute_result"
    }
   ],
   "source": [
    "df_models.to_excel('Machine_learning_metrics.xlsx')\n",
    "df_models"
   ]
  },
  {
   "cell_type": "markdown",
   "id": "c7bd13e6",
   "metadata": {},
   "source": [
    "## Specific Models"
   ]
  },
  {
   "attachments": {},
   "cell_type": "markdown",
   "id": "2f9222d8",
   "metadata": {},
   "source": [
    "### Age > 65"
   ]
  },
  {
   "cell_type": "code",
   "execution_count": null,
   "id": "cbdc3f39",
   "metadata": {},
   "outputs": [],
   "source": [
    "sns.histplot(data=df, x='age', hue='death', bins=15)"
   ]
  },
  {
   "cell_type": "code",
   "execution_count": null,
   "id": "9a5ec42f",
   "metadata": {},
   "outputs": [],
   "source": [
    "# age > 65\n",
    "df_age = df[(df['age'] > 65)].copy()\n",
    "df_age.index = pd.RangeIndex(start=0, stop=len(df_age.index))\n",
    "df_age.info()"
   ]
  },
  {
   "cell_type": "code",
   "execution_count": null,
   "id": "2b012398",
   "metadata": {},
   "outputs": [],
   "source": [
    "sns.histplot(data=df_age, x='age', hue='death', bins=15)"
   ]
  },
  {
   "cell_type": "code",
   "execution_count": null,
   "id": "0414f670",
   "metadata": {},
   "outputs": [],
   "source": [
    "# features.remove('age')\n",
    "X2 = df_age[features].copy()\n",
    "X2 = X2.astype('uint8')\n",
    "X2.info()"
   ]
  },
  {
   "cell_type": "code",
   "execution_count": null,
   "id": "c7457e6e",
   "metadata": {
    "scrolled": true
   },
   "outputs": [],
   "source": [
    "# Target variable\n",
    "y2 = df_age['death']\n",
    "y2 = y2.astype('uint8')\n",
    "y2.info()"
   ]
  },
  {
   "cell_type": "code",
   "execution_count": null,
   "id": "001a4b99",
   "metadata": {},
   "outputs": [],
   "source": [
    "# Train-test split\n",
    "X2_train, X2_test, y2_train, y2_test = train_test_split(X2, \n",
    "                                                        y2, \n",
    "                                                        test_size=0.3,\n",
    "                                                        random_state=42,\n",
    "                                                        shuffle=True)"
   ]
  },
  {
   "cell_type": "code",
   "execution_count": null,
   "id": "3b8c6b6a",
   "metadata": {},
   "outputs": [],
   "source": [
    "# Decision Tree\n",
    "clf_dt = DecisionTreeClassifier(random_state=42, max_depth=6)\n",
    "clf_dt.fit(X2_train, y2_train)\n",
    "y_pred = clf_dt.predict(X2_test)\n",
    "print(classification_report(y2_test, y_pred))\n",
    "\n",
    "# Decision Tree Visualization\n",
    "# DOT data:\n",
    "dot_data = export_graphviz(clf_dt, out_file='tree.gv', \n",
    "                           feature_names=X2.columns,  \n",
    "                           class_names={1:'Obito', 0:'Cura'},\n",
    "                           filled=True)\n",
    "\n",
    "#### Run command line ####\n",
    "# cd 'MBA DSA/4 - TCC/COVID-19 Brazil Data'\n",
    "# dot -Tpng -Gdpi=300 tree_filtered_age.gv -o tree.tiff"
   ]
  },
  {
   "cell_type": "code",
   "execution_count": null,
   "id": "5bb28c81",
   "metadata": {
    "scrolled": true
   },
   "outputs": [],
   "source": [
    "# Random Forest\n",
    "clf_rf = RandomForestClassifier(random_state=42)\n",
    "clf_rf.fit(X2_train, y2_train)\n",
    "y_pred = clf_rf.predict(X2_test)\n",
    "print(classification_report(y2_test, y_pred))"
   ]
  },
  {
   "attachments": {},
   "cell_type": "markdown",
   "id": "faa6041e",
   "metadata": {},
   "source": [
    "### Non-vaccinated"
   ]
  },
  {
   "cell_type": "code",
   "execution_count": null,
   "id": "0da87c32",
   "metadata": {},
   "outputs": [],
   "source": [
    "df_nvac = df[df['first_dose'] == 0].copy()\n",
    "df_nvac.index = pd.RangeIndex(0, len(df_nvac.index))\n",
    "df_nvac"
   ]
  },
  {
   "cell_type": "code",
   "execution_count": null,
   "id": "c0c1ea37",
   "metadata": {},
   "outputs": [],
   "source": [
    "X3 = df_nvac[features].copy()\n",
    "X3 = X3.astype('uint8')\n",
    "X3.info()"
   ]
  },
  {
   "cell_type": "code",
   "execution_count": null,
   "id": "e21e9b98",
   "metadata": {},
   "outputs": [],
   "source": [
    "y3 = df_nvac['death']\n",
    "y3 = y3.astype('uint8')\n",
    "y3"
   ]
  },
  {
   "cell_type": "code",
   "execution_count": null,
   "id": "b142304e",
   "metadata": {},
   "outputs": [],
   "source": [
    "# Train-test split\n",
    "X3_train, X3_test, y3_train, y3_test = train_test_split(X3, \n",
    "                                                        y3, \n",
    "                                                        test_size=0.3,\n",
    "                                                        random_state=42,\n",
    "                                                        shuffle=True)"
   ]
  },
  {
   "cell_type": "code",
   "execution_count": null,
   "id": "a43b82af",
   "metadata": {},
   "outputs": [],
   "source": [
    "# Decision Tree\n",
    "clf_dt = DecisionTreeClassifier(random_state=42, max_depth=6)\n",
    "clf_dt.fit(X3_train, y3_train)\n",
    "y_pred = clf_dt.predict(X3_test)\n",
    "print(classification_report(y3_test, y_pred))\n",
    "\n",
    "# Decision Tree Visualization\n",
    "# DOT data:\n",
    "dot_data = export_graphviz(clf_dt, out_file='tree.gv', \n",
    "                           feature_names=X2.columns,  \n",
    "                           class_names={1:'Obito', 0:'Cura'},\n",
    "                           filled=True)\n",
    "\n",
    "#### Run command line ####\n",
    "# cd 'MBA DSA/4 - TCC/COVID-19 Brazil Data'\n",
    "# dot -Tpng -Gdpi=300 tree_filtered_nvac.gv -o tree.tiff"
   ]
  },
  {
   "cell_type": "code",
   "execution_count": null,
   "id": "79992e6d",
   "metadata": {},
   "outputs": [],
   "source": [
    "# Random Forest\n",
    "clf_rf = RandomForestClassifier(random_state=42)\n",
    "clf_rf.fit(X3_train, y3_train)\n",
    "y_pred = clf_rf.predict(X3_test)\n",
    "print(classification_report(y3_test, y_pred))"
   ]
  },
  {
   "cell_type": "code",
   "execution_count": null,
   "id": "116c520e",
   "metadata": {},
   "outputs": [],
   "source": []
  },
  {
   "cell_type": "code",
   "execution_count": null,
   "id": "46ab948a",
   "metadata": {},
   "outputs": [],
   "source": []
  },
  {
   "cell_type": "code",
   "execution_count": null,
   "id": "4aa9d8f2",
   "metadata": {},
   "outputs": [],
   "source": []
  },
  {
   "cell_type": "code",
   "execution_count": null,
   "id": "2b17d3da",
   "metadata": {},
   "outputs": [],
   "source": []
  },
  {
   "cell_type": "code",
   "execution_count": null,
   "id": "a4453b43",
   "metadata": {},
   "outputs": [],
   "source": []
  },
  {
   "cell_type": "code",
   "execution_count": null,
   "id": "93e28ee5",
   "metadata": {},
   "outputs": [],
   "source": [
    "def extract(array, i):\n",
    "    if i > 1:\n",
    "        return None\n",
    "    return [item[i] for item in array]\n",
    "\n",
    "proba_death = extract(clf2.predict_proba(X1_test), 1)\n",
    "proba_survi = extract(clf2.predict_proba(X1_test), 0)"
   ]
  },
  {
   "cell_type": "code",
   "execution_count": null,
   "id": "8b2b2218",
   "metadata": {},
   "outputs": [],
   "source": []
  },
  {
   "cell_type": "code",
   "execution_count": null,
   "id": "424f278a",
   "metadata": {},
   "outputs": [],
   "source": []
  },
  {
   "cell_type": "code",
   "execution_count": null,
   "id": "53ee8eca",
   "metadata": {},
   "outputs": [],
   "source": [
    "from scipy import stats"
   ]
  },
  {
   "cell_type": "code",
   "execution_count": null,
   "id": "56061043",
   "metadata": {},
   "outputs": [],
   "source": [
    "from scipy.stats.contingency import odds_ratio"
   ]
  },
  {
   "cell_type": "code",
   "execution_count": null,
   "id": "0d601c16",
   "metadata": {},
   "outputs": [],
   "source": []
  }
 ],
 "metadata": {
  "kernelspec": {
   "display_name": "base",
   "language": "python",
   "name": "python3"
  },
  "language_info": {
   "codemirror_mode": {
    "name": "ipython",
    "version": 3
   },
   "file_extension": ".py",
   "mimetype": "text/x-python",
   "name": "python",
   "nbconvert_exporter": "python",
   "pygments_lexer": "ipython3",
   "version": "3.10.8"
  },
  "vscode": {
   "interpreter": {
    "hash": "c6e4e9f98eb68ad3b7c296f83d20e6de614cb42e90992a65aa266555a3137d0d"
   }
  }
 },
 "nbformat": 4,
 "nbformat_minor": 5
}
